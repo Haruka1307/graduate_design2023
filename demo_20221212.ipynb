{
 "cells": [
  {
   "cell_type": "code",
   "execution_count": 5,
   "metadata": {},
   "outputs": [],
   "source": [
    "import numpy as np\n",
    "import pandas as pd \n",
    "import json\n",
    "import copy\n",
    "import jieba\n",
    "import time"
   ]
  },
  {
   "cell_type": "code",
   "execution_count": 2,
   "metadata": {},
   "outputs": [],
   "source": [
    "class oneweibo:\n",
    "    def __init__(self,\n",
    "                id,\n",
    "                user_id,\n",
    "                is_retweet, #是否转发\n",
    "                user_type,\n",
    "                user_name,\n",
    "                weibo_content,\n",
    "                r_weibo_content,\n",
    "                region_name, #ip属地\n",
    "                time,\n",
    "                zhuan=0,\n",
    "                ping=0,\n",
    "                zhan=0):\n",
    "        self.id=id \n",
    "        self.user_id=user_id\n",
    "        self.is_retweet=is_retweet\n",
    "        self.user_type=user_type\n",
    "        self.user_name=user_name\n",
    "        self.weibo_content=weibo_content \n",
    "        self.r_weibo_content=r_weibo_content\n",
    "        self.time=time \n",
    "        self.zhuan=zhuan \n",
    "        self.ping=ping \n",
    "        self.zhan=zhan \n",
    "        \n",
    "    def show(self):\n",
    "        print(\n",
    "            \"id:\",self.id,\n",
    "            \"user_id:\",self.user_id,\n",
    "            \"is_retweet:\",self.is_retweet,\n",
    "            \"user_type:\",self.user_type,\n",
    "            \"user_name:\",self.user_name,\n",
    "            \"weibo_content:\",self.weibo_content,\n",
    "            \"time:\",self.time,\n",
    "            \"zhuan\",self.zhuan,\n",
    "            \"ping:\",self.ping,\n",
    "            \"zhan:\",self.zhan\n",
    "        )\n",
    "    def __eq__(self,other): \n",
    "        return self.weibo_content==other.weibo_content\n",
    "        "
   ]
  },
  {
   "cell_type": "code",
   "execution_count": 3,
   "metadata": {},
   "outputs": [],
   "source": [
    "class Vertex:\n",
    "    def __init__(self,\n",
    "                user_id,\n",
    "                user_name,\n",
    "                user_type):\n",
    "        self.user_id=user_id\n",
    "        self.user_name=user_name \n",
    "        self.user_type=user_type\n",
    "        self.weibos={} #发的微博\n",
    "        self.connectedTo={} #转发关系\n",
    "\n",
    "    def tweeting(self,wb): #发微博\n",
    "        self.weibos[wb.id]=wb \n",
    "\n",
    "    def getWeibo(self,id):  #根据微博id返回微博\n",
    "        if id in self.weibos:\n",
    "            return self.weibos[id]\n",
    "        else:\n",
    "            return None\n",
    "    \n",
    "    def showeibo(self):\n",
    "        for key in self.weibos.keys():\n",
    "            self.weibos[key].show()\n",
    "\n",
    "    def addNeighbor(self,nbr_id):\n",
    "        if nbr_id not in self.connectedTo.keys():\n",
    "            self.connectedTo[nbr_id]=1\n",
    "        else:\n",
    "            self.connectedTo[nbr_id]=self.connectedTo[nbr_id]+1 #多次转发，关系更强"
   ]
  },
  {
   "cell_type": "code",
   "execution_count": 5,
   "metadata": {},
   "outputs": [],
   "source": [
    "class Graph:\n",
    "    def __init__(self):\n",
    "        self.verList={} #user_id:节点\n",
    "        self.numVertices=0\n",
    "    \n",
    "    def addVertex(self,\n",
    "                user_id,\n",
    "                user_name,\n",
    "                user_type):\n",
    "        self.numVertices=self.numVertices+1\n",
    "        newVertex=Vertex(user_id,\n",
    "                        user_name,\n",
    "                        user_type)\n",
    "        self.verList[user_id]=newVertex\n",
    "        return newVertex\n",
    "\n",
    "    def getVertex(self,user_id):\n",
    "        if user_id in self.verList:\n",
    "            return self.verList[user_id]\n",
    "        else:\n",
    "            return None\n",
    "            \n",
    "    def updateVertex(self,\n",
    "                    id,\n",
    "                    user_id,\n",
    "                    is_retweet,\n",
    "                    user_type,\n",
    "                    user_name,\n",
    "                    weibo_content,\n",
    "                    r_weibo_content,\n",
    "                    region_name,\n",
    "                    time,\n",
    "                    zhuan,\n",
    "                    ping,\n",
    "                    zhan):\n",
    "        node=Graph.getVertex(self,user_id)\n",
    "        wb=oneweibo(id,user_id,is_retweet,user_type,user_name,\n",
    "        weibo_content,r_weibo_content,region_name,time,zhuan,ping,zhan)\n",
    "        node.tweeting(wb)\n",
    "        \n",
    "    def __contains__(self,id):\n",
    "        return id in self.verList\n",
    "\n",
    "    def addEdge(self,f_id,t_id): \n",
    "        #这里写错了，\n",
    "        #self.verList[f_id].addNeighbor(t_id)\n",
    "        self.verList[f_id].addNeighbor(t_id)\n",
    "    \n",
    "    def getVertices(self):\n",
    "        return self.verList.keys()\n",
    "    def __iter__(self):\n",
    "        return iter(self.verList.values())"
   ]
  },
  {
   "cell_type": "code",
   "execution_count": 9,
   "metadata": {},
   "outputs": [],
   "source": [
    "def exist(texts,keyword):\n",
    "    for word in keyword:\n",
    "        for text in texts:\n",
    "            if word in text:\n",
    "                return True\n",
    "    return False"
   ]
  },
  {
   "cell_type": "code",
   "execution_count": 7,
   "metadata": {},
   "outputs": [],
   "source": [
    "from functools import partial\n",
    " \n",
    "def read_from_file(filename, block_size = 1024 * 8):\n",
    "    with open(filename, \"r\") as fp:\n",
    "        for chunk in iter(partial(fp.read, block_size), \"\"):\n",
    "            yield chunk"
   ]
  },
  {
   "cell_type": "code",
   "execution_count": 11,
   "metadata": {},
   "outputs": [],
   "source": [
    "import xlsxwriter as xw\n",
    "import time"
   ]
  },
  {
   "cell_type": "code",
   "execution_count": 95,
   "metadata": {},
   "outputs": [],
   "source": [
    "g=read_from_file('weibo_freshdata.2022-10-08/weibo_freshdata.2022-10-08',1024*16)"
   ]
  },
  {
   "cell_type": "markdown",
   "metadata": {},
   "source": []
  },
  {
   "cell_type": "code",
   "execution_count": 12,
   "metadata": {},
   "outputs": [
    {
     "name": "stdout",
     "output_type": "stream",
     "text": [
      "0.1416771411895752\n"
     ]
    }
   ],
   "source": [
    "workbook=xw.Workbook(\"ans.xlsx\")\n",
    "worksheet1=workbook.add_worksheet(\"sheet1\")\n",
    "worksheet1.activate()\n",
    "title=['wb_id','time_stamp','user_id','user_name','user_type','is_retweet','wb_content','device','edit','video','region_name','r_wb_id','zhuan','ping','zhan']\n",
    "worksheet1.write_row(\"A1\",title)\n",
    "i=2\n",
    "left=''\n",
    "t1=time.time()\n",
    "for chunk in read_from_file('weibo_freshdata.2022-10-08/weibo_freshdata.2022-10-08',1024*16):\n",
    "    l=chunk.split('\\n') \n",
    "    break\n",
    "    #换行符可能出现在开头/结尾\n",
    "    if l[-1]=='': \n",
    "        l.pop(-1)\n",
    "    if l[0]=='':\n",
    "        l.pop(0)\n",
    "    l[0]=left+l[0] #上一次未读完的补齐\n",
    "\n",
    "    if len(l[-1])<13: #未涉及{}\n",
    "        left=l[-1]  \n",
    "        if len(l)<1 or len(l)==1:\n",
    "            continue\n",
    "        l=[eval(i[12:]) for i in l[:-1]]\n",
    "    else:\n",
    "        try:\n",
    "            eval(l[-1][12:])\n",
    "        except SyntaxError:\n",
    "            left=l[-1]  #剩下的部分\n",
    "            if len(l)<1 or len(l)==1:\n",
    "                continue\n",
    "            l=[eval(i[12:]) for i in l[:-1]]\n",
    "        else:\n",
    "            left=''\n",
    "            l=[eval(i[12:]) for i in l]\n",
    "\n",
    "    to_find=[piece['weibo_content']+piece['r_weibo_content'] for piece in l]\n",
    "    qualified_index=[i for i in range(len(to_find)) if exist(to_find[i],keyword)]\n",
    "    for d in qualified_index:\n",
    "        region_name=' '\n",
    "        if 'ext' in l[d].keys():\n",
    "            region_name=json.loads(l[d]['ext'])['region_name'].split()[-1] if 'region_name' in json.loads(l[d]['ext']).keys() else ' '\n",
    "        insertData=[l[d]['weibo_id'],l[d]['time_stamp'],l[d]['user_id'],l[d]['nick_name'],l[d]['user_type'],l[d]['is_retweet'],l[d]['weibo_content'],l[d]['device'],l[d]['edited'],l[d]['vedio'],region_name,l[d]['r_weibo_id'],l[d]['zhuan'],l[d]['ping'],l[d]['zhan']]\n",
    "        row='A'+str(i)\n",
    "        worksheet1.write_row(row,insertData)\n",
    "        i+=1\n",
    "workbook.close()\n",
    "t2=time.time()\n",
    "print(t2-t1)"
   ]
  },
  {
   "cell_type": "code",
   "execution_count": 13,
   "metadata": {},
   "outputs": [
    {
     "data": {
      "text/plain": [
       "'75640178358\\t{\"id\":\"75640178358\",\"crawler_time\":\"2022-10-08 00:00:00\",\"crawler_time_stamp\":\"1665158400000\",\"is_retweet\":\"0\",\"user_id\":\"1454303565\",\"nick_name\":\"希阳西\",\"tou_xiang\":\"https:\\\\/\\\\/tvax2.sinaimg.cn\\\\/crop.0.0.512.512.50\\\\/56aee94dly8gjewniter9j20e80e8jsa.jpg?KID=imgbed,tva&Expires=1665169199&ssig=G7HjHOHM1q\",\"user_type\":\"普通用户\",\"weibo_id\":\"4822065498821328\",\"weibo_content\":\"#肖战[超话]##肖战时影#[心]#肖战肖春生# \\\\n韶华流光里，\\\\n俯仰皆是你@X玖少年团肖战DAYTOY @X玖少年团肖战DAYTOY [心][兔子][贊啊]#肖战顺顺利利# \\u200b\\u200b\\u200b\",\"zhuan\":\"0\",\"ping\":\"1\",\"zhan\":\"1\",\"url\":\"M9g1vB0Pu\",\"device\":\"肖戰順順利利\",\"locate\":\"\",\"time\":\"2022-10-07 22:37:47\",\"time_stamp\":\"1665153467\",\"r_user_id\":\"\",\"r_nick_name\":\"\",\"r_user_type\":\"\",\"r_weibo_id\":\"\",\"r_weibo_content\":\"\",\"r_zhuan\":\"\",\"r_ping\":\"\",\"r_zhan\":\"\",\"r_url\":\"\",\"r_device\":\"\",\"r_location\":\"\",\"r_time\":\"\",\"r_time_stamp\":\"\",\"pic_content\":\"56aee94dgy1h6x3jo6vz7j236c2jxkjl\",\"src\":\"4\",\"tag\":\"0\",\"vedio\":\"0\",\"vedio_image\":\"\",\"edited\":\"0\",\"r_edited\":\"\",\"isLongText\":\"0\",\"r_isLongText\":\"\",\"lat\":\"\",\"lon\":\"\",\"ext\":\"{\\\\\"region_name\\\\\":\\\\\"发布于 广东\\\\\"}\",\"d\":\"2022-10-08\"}'"
      ]
     },
     "execution_count": 13,
     "metadata": {},
     "output_type": "execute_result"
    }
   ],
   "source": [
    "l[-2]"
   ]
  },
  {
   "cell_type": "code",
   "execution_count": 11,
   "metadata": {},
   "outputs": [
    {
     "data": {
      "text/html": [
       "<div>\n",
       "<style scoped>\n",
       "    .dataframe tbody tr th:only-of-type {\n",
       "        vertical-align: middle;\n",
       "    }\n",
       "\n",
       "    .dataframe tbody tr th {\n",
       "        vertical-align: top;\n",
       "    }\n",
       "\n",
       "    .dataframe thead th {\n",
       "        text-align: right;\n",
       "    }\n",
       "</style>\n",
       "<table border=\"1\" class=\"dataframe\">\n",
       "  <thead>\n",
       "    <tr style=\"text-align: right;\">\n",
       "      <th></th>\n",
       "      <th>0</th>\n",
       "    </tr>\n",
       "  </thead>\n",
       "  <tbody>\n",
       "    <tr>\n",
       "      <th>0</th>\n",
       "      <td>{\"id\":\"75640178330\",\"crawler_time\":\"2022-10-08...</td>\n",
       "    </tr>\n",
       "    <tr>\n",
       "      <th>1</th>\n",
       "      <td>{\"id\":\"75640178331\",\"crawler_time\":\"2022-10-08...</td>\n",
       "    </tr>\n",
       "    <tr>\n",
       "      <th>2</th>\n",
       "      <td>{\"id\":\"75640178332\",\"crawler_time\":\"2022-10-08...</td>\n",
       "    </tr>\n",
       "    <tr>\n",
       "      <th>3</th>\n",
       "      <td>{\"id\":\"75640178333\",\"crawler_time\":\"2022-10-08...</td>\n",
       "    </tr>\n",
       "    <tr>\n",
       "      <th>4</th>\n",
       "      <td>{\"id\":\"75640178334\",\"crawler_time\":\"2022-10-08...</td>\n",
       "    </tr>\n",
       "    <tr>\n",
       "      <th>5</th>\n",
       "      <td>{\"id\":\"75640178335\",\"crawler_time\":\"2022-10-08...</td>\n",
       "    </tr>\n",
       "    <tr>\n",
       "      <th>6</th>\n",
       "      <td>{\"id\":\"75640178336\",\"crawler_time\":\"2022-10-08...</td>\n",
       "    </tr>\n",
       "    <tr>\n",
       "      <th>7</th>\n",
       "      <td>{\"id\":\"75640178337\",\"crawler_time\":\"2022-10-08...</td>\n",
       "    </tr>\n",
       "    <tr>\n",
       "      <th>8</th>\n",
       "      <td>{\"id\":\"75640178338\",\"crawler_time\":\"2022-10-08...</td>\n",
       "    </tr>\n",
       "    <tr>\n",
       "      <th>9</th>\n",
       "      <td>{\"id\":\"75640178339\",\"crawler_time\":\"2022-10-08...</td>\n",
       "    </tr>\n",
       "    <tr>\n",
       "      <th>10</th>\n",
       "      <td>{\"id\":\"75640178340\",\"crawler_time\":\"2022-10-08...</td>\n",
       "    </tr>\n",
       "    <tr>\n",
       "      <th>11</th>\n",
       "      <td>{\"id\":\"75640178357\",\"crawler_time\":\"2022-10-08...</td>\n",
       "    </tr>\n",
       "    <tr>\n",
       "      <th>12</th>\n",
       "      <td>{\"id\":\"75640178358\",\"crawler_time\":\"2022-10-08...</td>\n",
       "    </tr>\n",
       "  </tbody>\n",
       "</table>\n",
       "</div>"
      ],
      "text/plain": [
       "                                                    0\n",
       "0   {\"id\":\"75640178330\",\"crawler_time\":\"2022-10-08...\n",
       "1   {\"id\":\"75640178331\",\"crawler_time\":\"2022-10-08...\n",
       "2   {\"id\":\"75640178332\",\"crawler_time\":\"2022-10-08...\n",
       "3   {\"id\":\"75640178333\",\"crawler_time\":\"2022-10-08...\n",
       "4   {\"id\":\"75640178334\",\"crawler_time\":\"2022-10-08...\n",
       "5   {\"id\":\"75640178335\",\"crawler_time\":\"2022-10-08...\n",
       "6   {\"id\":\"75640178336\",\"crawler_time\":\"2022-10-08...\n",
       "7   {\"id\":\"75640178337\",\"crawler_time\":\"2022-10-08...\n",
       "8   {\"id\":\"75640178338\",\"crawler_time\":\"2022-10-08...\n",
       "9   {\"id\":\"75640178339\",\"crawler_time\":\"2022-10-08...\n",
       "10  {\"id\":\"75640178340\",\"crawler_time\":\"2022-10-08...\n",
       "11  {\"id\":\"75640178357\",\"crawler_time\":\"2022-10-08...\n",
       "12  {\"id\":\"75640178358\",\"crawler_time\":\"2022-10-08..."
      ]
     },
     "execution_count": 11,
     "metadata": {},
     "output_type": "execute_result"
    }
   ],
   "source": [
    "l=chunk.split('\\n')\n",
    "l=[i[12:] for i in l]\n",
    "pd.DataFrame(l[:-1])"
   ]
  },
  {
   "attachments": {},
   "cell_type": "markdown",
   "metadata": {},
   "source": [
    "## 按块读取，存list，找"
   ]
  },
  {
   "cell_type": "code",
   "execution_count": 173,
   "metadata": {},
   "outputs": [
    {
     "name": "stdout",
     "output_type": "stream",
     "text": [
      "5107.944137096405\n"
     ]
    }
   ],
   "source": [
    "workbook=xw.Workbook(\"ans.xlsx\")\n",
    "worksheet1=workbook.add_worksheet(\"sheet1\")\n",
    "worksheet1.activate()\n",
    "title=['wb_id','time_stamp','user_id','user_name','user_type','is_retweet','wb_content','device','edit','video','region_name','r_wb_id','zhuan','ping','zhan']\n",
    "worksheet1.write_row(\"A1\",title)\n",
    "i=2\n",
    "left=''\n",
    "t1=time.time()\n",
    "for chunk in read_from_file('weibo_freshdata.2022-10-08/weibo_freshdata.2022-10-08',1024*16):\n",
    "\n",
    "    l=chunk.split('\\n') \n",
    "    #换行符可能出现在开头/结尾\n",
    "    if l[-1]=='': \n",
    "        l.pop(-1)\n",
    "    if l[0]=='':\n",
    "        l.pop(0)\n",
    "    l[0]=left+l[0] #上一次未读完的补齐\n",
    "\n",
    "    if len(l[-1])<13: #未涉及{}\n",
    "        left=l[-1]  \n",
    "        if len(l)<1 or len(l)==1:\n",
    "            continue\n",
    "        l=[eval(i[12:]) for i in l[:-1]]\n",
    "    else:\n",
    "        try:\n",
    "            eval(l[-1][12:])\n",
    "        except SyntaxError:\n",
    "            left=l[-1]  #剩下的部分\n",
    "            if len(l)<1 or len(l)==1:\n",
    "                continue\n",
    "            l=[eval(i[12:]) for i in l[:-1]]\n",
    "        else:\n",
    "            left=''\n",
    "            l=[eval(i[12:]) for i in l]\n",
    "\n",
    "    to_find=[piece['weibo_content']+piece['r_weibo_content'] for piece in l]\n",
    "t2=time.time()\n",
    "print(t2-t1)"
   ]
  },
  {
   "cell_type": "code",
   "execution_count": null,
   "metadata": {},
   "outputs": [],
   "source": [
    "import re\n",
    "keyword1=['北京疫情发布会','上海疫情发布会','上海市新冠肺炎疫情防控新闻发布会','上海疫情防控工作发布会','上海疫情防控发布会','广州市疫情防控发布会']\n",
    "keyword2=['重庆市政府新闻发布会','疫情']\n",
    "for chunk in read_from_file('weibo_freshdata.2022-10-08/weibo_freshdata.2022-10-08',1024*16):\n",
    "    pattern1=re.compile('|'.join(keyword1))\n",
    "    a=pattern1.search(chunk)\n",
    "    if a:\n",
    "        print(a.span()[0])\n",
    "    pattern2=re.compile('(.*)北京召开第(.*)场疫情防控新闻发布会(.*)')\n",
    "    b=pattern2.search(chunk)\n",
    "    if b:\n",
    "        print(b.span()[0])"
   ]
  },
  {
   "attachments": {},
   "cell_type": "markdown",
   "metadata": {},
   "source": [
    "## 按块读取，找"
   ]
  },
  {
   "cell_type": "code",
   "execution_count": 180,
   "metadata": {},
   "outputs": [
    {
     "name": "stdout",
     "output_type": "stream",
     "text": [
      "11198\n",
      "686.2963733673096\n"
     ]
    }
   ],
   "source": [
    "import re\n",
    "keyword1=['北京疫情发布会','上海疫情发布会','上海市新冠肺炎疫情防控新闻发布会','上海疫情防控工作发布会','上海疫情防控发布会','广州市疫情防控发布会']\n",
    "keyword2=['重庆市政府新闻发布会','疫情']\n",
    "i=1\n",
    "t1=time.time()\n",
    "for chunk in read_from_file('weibo_freshdata.2022-10-08/weibo_freshdata.2022-10-08',1024*16):\n",
    "    if i==5000:\n",
    "        break\n",
    "    pattern1=re.compile('|'.join(keyword1))\n",
    "    a=pattern1.search(chunk)\n",
    "    if a:\n",
    "        print(a.span()[0])\n",
    "    pattern2=re.compile('(.*)北京召开第(.*)场疫情防控新闻发布会(.*)')\n",
    "    b=pattern2.search(chunk)\n",
    "    if b:\n",
    "        print(b.span()[0])\n",
    "    i+=1\n",
    "t2=time.time()\n",
    "print(t2-t1)"
   ]
  },
  {
   "cell_type": "code",
   "execution_count": null,
   "metadata": {},
   "outputs": [],
   "source": [
    "import re \n",
    "def search(text,keyword1,keyword2):\n",
    "    pattern1=re.compile('|'.join(keyword1))\n",
    "    a=pattern1.search(text)\n",
    "    if a:\n",
    "        return a.span()[0]\n",
    "    pattern2='(.*)北京召开第(.*)场疫情防控新闻发布会(.*)'\n",
    "    b=pattern2.search(text)\n",
    "    if b:\n",
    "        return b.span()[0]\n",
    "    \n"
   ]
  },
  {
   "attachments": {},
   "cell_type": "markdown",
   "metadata": {},
   "source": [
    "## 按块读取，先存Dataframe"
   ]
  },
  {
   "cell_type": "code",
   "execution_count": 6,
   "metadata": {},
   "outputs": [
    {
     "ename": "NameError",
     "evalue": "name 'read_from_file' is not defined",
     "output_type": "error",
     "traceback": [
      "\u001b[1;31m---------------------------------------------------------------------------\u001b[0m",
      "\u001b[1;31mNameError\u001b[0m                                 Traceback (most recent call last)",
      "\u001b[1;32m<ipython-input-6-5a2cf1916c49>\u001b[0m in \u001b[0;36m<module>\u001b[1;34m\u001b[0m\n\u001b[0;32m      7\u001b[0m \u001b[0mleft\u001b[0m\u001b[1;33m=\u001b[0m\u001b[1;34m''\u001b[0m\u001b[1;33m\u001b[0m\u001b[1;33m\u001b[0m\u001b[0m\n\u001b[0;32m      8\u001b[0m \u001b[0mt1\u001b[0m\u001b[1;33m=\u001b[0m\u001b[0mtime\u001b[0m\u001b[1;33m.\u001b[0m\u001b[0mtime\u001b[0m\u001b[1;33m(\u001b[0m\u001b[1;33m)\u001b[0m\u001b[1;33m\u001b[0m\u001b[1;33m\u001b[0m\u001b[0m\n\u001b[1;32m----> 9\u001b[1;33m \u001b[1;32mfor\u001b[0m \u001b[0mchunk\u001b[0m \u001b[1;32min\u001b[0m \u001b[0mread_from_file\u001b[0m\u001b[1;33m(\u001b[0m\u001b[1;34m'weibo_freshdata.2022-10-08/weibo_freshdata.2022-10-08'\u001b[0m\u001b[1;33m,\u001b[0m\u001b[1;36m1024\u001b[0m\u001b[1;33m*\u001b[0m\u001b[1;36m8\u001b[0m\u001b[1;33m)\u001b[0m\u001b[1;33m:\u001b[0m\u001b[1;33m\u001b[0m\u001b[1;33m\u001b[0m\u001b[0m\n\u001b[0m\u001b[0;32m     10\u001b[0m     \u001b[0ml\u001b[0m\u001b[1;33m=\u001b[0m\u001b[0mchunk\u001b[0m\u001b[1;33m.\u001b[0m\u001b[0msplit\u001b[0m\u001b[1;33m(\u001b[0m\u001b[1;34m'\\n'\u001b[0m\u001b[1;33m)\u001b[0m\u001b[1;33m\u001b[0m\u001b[1;33m\u001b[0m\u001b[0m\n\u001b[0;32m     11\u001b[0m     \u001b[1;32mbreak\u001b[0m\u001b[1;33m\u001b[0m\u001b[1;33m\u001b[0m\u001b[0m\n",
      "\u001b[1;31mNameError\u001b[0m: name 'read_from_file' is not defined"
     ]
    }
   ],
   "source": [
    "keyword1=['北京疫情发布会','上海疫情发布会','上海市新冠肺炎疫情防控新闻发布会','上海疫情防控工作发布会','上海疫情防控发布会','广州市疫情防控发布会']\n",
    "keyword2=['重庆市政府新闻发布会','疫情']\n",
    "\n",
    "title=['wb_id','time_stamp','user_id','user_name','user_type','is_retweet','wb_content','device','edit','video','region_name','r_wb_id','zhuan','ping','zhan']\n",
    "df=pd.DataFrame(title)\n",
    "i=1\n",
    "left=''\n",
    "t1=time.time()\n",
    "for chunk in read_from_file('weibo_freshdata.2022-10-08/weibo_freshdata.2022-10-08',1024*8):\n",
    "    l=chunk.split('\\n') \n",
    "    break\n",
    "    #换行符可能出现在开头/结尾\n",
    "    if l[-1]=='': \n",
    "        l.pop(-1)\n",
    "    if l[0]=='':\n",
    "        l.pop(0)\n",
    "    l[0]=left+l[0] #上一次未读完的补齐\n",
    "\n",
    "    if len(l[-1])<13: #未涉及{}\n",
    "        left=l[-1]  \n",
    "        if len(l)<1 or len(l)==1:\n",
    "            continue\n",
    "        l=[eval(i[12:]) for i in l[:-1]]\n",
    "    else:\n",
    "        try:\n",
    "            eval(l[-1][12:])\n",
    "        except SyntaxError:\n",
    "            left=l[-1]  #剩下的部分\n",
    "            if len(l)<1 or len(l)==1:\n",
    "                continue\n",
    "            l=[eval(i[12:]) for i in l[:-1]]\n",
    "        else:\n",
    "            left=''\n",
    "            l=[eval(i[12:]) for i in l]\n",
    "    for piece in l:\n",
    "            if 'ext' in piece.keys():\n",
    "                region_name=json.loads(piece['ext'])['region_name'].split()[-1] if 'region_name' in json.loads(piece['ext']).keys() else ' '\n",
    "            insertData=[piece['weibo_id'],piece['time_stamp'],piece['user_id'],piece['nick_name'],piece['user_type'],piece['is_retweet'],piece['weibo_content'],piece['device'],piece['edited'],piece['vedio'],region_name,piece['r_weibo_id'],piece['zhuan'],piece['ping'],piece['zhan']]\n",
    "t2=time.time()\n",
    "print(t2-t1)"
   ]
  },
  {
   "cell_type": "code",
   "execution_count": 1,
   "metadata": {},
   "outputs": [
    {
     "ename": "NameError",
     "evalue": "name 'chunk' is not defined",
     "output_type": "error",
     "traceback": [
      "\u001b[1;31m---------------------------------------------------------------------------\u001b[0m",
      "\u001b[1;31mNameError\u001b[0m                                 Traceback (most recent call last)",
      "\u001b[1;32m<ipython-input-1-cf9c1dfb1cf0>\u001b[0m in \u001b[0;36m<module>\u001b[1;34m\u001b[0m\n\u001b[1;32m----> 1\u001b[1;33m \u001b[0mchunk\u001b[0m\u001b[1;33m[\u001b[0m\u001b[1;33m-\u001b[0m\u001b[1;36m2\u001b[0m\u001b[1;33m]\u001b[0m\u001b[1;33m\u001b[0m\u001b[1;33m\u001b[0m\u001b[0m\n\u001b[0m",
      "\u001b[1;31mNameError\u001b[0m: name 'chunk' is not defined"
     ]
    }
   ],
   "source": [
    "chunk[-2]"
   ]
  },
  {
   "cell_type": "code",
   "execution_count": 87,
   "metadata": {},
   "outputs": [],
   "source": [
    "import xlsxwriter as xw"
   ]
  },
  {
   "cell_type": "code",
   "execution_count": 49,
   "metadata": {},
   "outputs": [
    {
     "data": {
      "text/plain": [
       "['要我说，路演的《我想我不够好》就是神！！！珍藏到死了我都要刻成碟带进土里的程度再也不会有下一个马嘉祺了。\\n我说路演封神是我实在想不到别的更好的形容了。\\n昨天翻出来的重庆路演，转发的每一条我都有认真看过 。\\n哦，原来是你啊、原来你还在、原来你还记得、原来你也在怀念 。\\n中间不时穿插一条怎么没有早点遇到他。\\n看吧，一直有人在沦陷。\\n要怎么形容15岁的马嘉祺路演呢，像刚下 \\u200b\\u200b\\u200b',\n",
       " '我参与了@陌上归寒 发起的【任嘉伦\\\\/请君\\\\/陆炎\\\\/任嘉伦陆炎@任嘉伦Allen】，我投给了“#任嘉伦宣夜#任嘉伦宣夜@任嘉伦Allen”这个选项，你也快来表态吧~#任嘉伦[超话]#[哇]#任嘉伦请君# [哇]#任嘉伦陆炎# \\n来@任嘉伦Allen @请君官微 @任嘉伦Allen @请君官微 \\n\\n任嘉伦请君| 任嘉伦陆炎 | 任嘉伦无忧渡 |任嘉伦宣夜  \\u200b  \\u200b  \\u200b  \\u200b\\u200b\\u200b  \\u200b\\u200b\\u200b  \\u200b\\u200b\\u200b  \\u200b\\u200b\\u200b  \\u200b\\u200b\\u200b  \\u200b  \\u200b\\u200b\\u200b http:\\\\/\\\\/t.cn\\\\/A6o4rytw \\u200b\\u200b\\u200b',\n",
       " '我参与了@陌上归寒 发起的【任嘉伦\\\\/请君\\\\/陆炎\\\\/任嘉伦陆炎@任嘉伦Allen】，我投给了“#任嘉伦无忧渡#任嘉伦无忧渡@任嘉伦Allen”这个选项，你也快来表态吧~#任嘉伦[超话]#[哇]#任嘉伦请君# [哇]#任嘉伦陆炎# \\n来@任嘉伦Allen @请君官微 @任嘉伦Allen @请君官微 \\n\\n任嘉伦请君| 任嘉伦陆炎 | 任嘉伦无忧渡 |任嘉伦宣夜  \\u200b  \\u200b  \\u200b  \\u200b\\u200b\\u200b  \\u200b\\u200b\\u200b  \\u200b\\u200b\\u200b  \\u200b\\u200b\\u200b  \\u200b\\u200b\\u200b  \\u200b  \\u200b\\u200b\\u200b http:\\\\/\\\\/t.cn\\\\/A6o4rytw \\u200b\\u200b\\u200b',\n",
       " '我参与了@陌上归寒 发起的【任嘉伦\\\\/请君\\\\/陆炎\\\\/任嘉伦陆炎@任嘉伦Allen】，我投给了“#任嘉伦陆炎#任嘉伦陆炎@任嘉伦Allen”这个选项，你也快来表态吧~#任嘉伦[超话]#[哇]#任嘉伦请君# [哇]#任嘉伦陆炎# \\n来@任嘉伦Allen @请君官微 @任嘉伦Allen @请君官微 \\n\\n任嘉伦请君| 任嘉伦陆炎 | 任嘉伦无忧渡 |任嘉伦宣夜  \\u200b  \\u200b  \\u200b  \\u200b\\u200b\\u200b  \\u200b\\u200b\\u200b  \\u200b\\u200b\\u200b  \\u200b\\u200b\\u200b  \\u200b\\u200b\\u200b  \\u200b  \\u200b\\u200b\\u200b http:\\\\/\\\\/t.cn\\\\/A6o4rytw \\u200b\\u200b\\u200b',\n",
       " '我参与了@陌上归寒 发起的【任嘉伦\\\\/请君\\\\/陆炎\\\\/任嘉伦陆炎@任嘉伦Allen】，我投给了“#任嘉伦请君#任嘉伦请君@任嘉伦Allen”这个选项，你也快来表态吧~#任嘉伦[超话]#[哇]#任嘉伦请君# [哇]#任嘉伦陆炎# \\n来@任嘉伦Allen @请君官微 @任嘉伦Allen @请君官微 \\n\\n任嘉伦请君| 任嘉伦陆炎 | 任嘉伦无忧渡 |任嘉伦宣夜  \\u200b  \\u200b  \\u200b  \\u200b\\u200b\\u200b  \\u200b\\u200b\\u200b  \\u200b\\u200b\\u200b  \\u200b\\u200b\\u200b  \\u200b\\u200b\\u200b  \\u200b  \\u200b\\u200b\\u200b http:\\\\/\\\\/t.cn\\\\/A6o4rytw \\u200b\\u200b\\u200b',\n",
       " '转发微博#任嘉伦[超话]# 多套造型通通轻松驾驭，百变陆炎@任嘉伦Allen\\xa0的穿搭秘诀，大嘉看会了吗？哪一套是你的最爱？速速get炎式穿搭，做这个秋天最靓的上火女孩！#任嘉伦请君#[作揖]#任嘉伦陆炎#\\xa0[作揖]#请君# \\u200b\\u200b\\u200b',\n",
       " '转发微博#任嘉伦[超话]# 夏近尾声，忽而秋来，更新一波boss@任嘉伦Allen 的剧组生活日常图，今天就带大嘉看看室眼中的boss吧！#任嘉伦请君#[打call]#任嘉伦陆炎#[打call]#请君# \\u200b\\u200b\\u200b',\n",
       " '转发微博【青泉寨照相馆】#请君花絮# #任嘉伦请君片场踱步好魔性# 前方向我们走来的是MC炎@任嘉伦Allen 他先是前情提要介绍了下当场剧情设定，然后与好部下“都都”@王海祥Ocean 一起开启了魔力转圈圈[哈哈]场面一度让人“头大”，连炎将军自己都认证“玩坏了”[二哈]#请君#\\nhttp:\\\\/\\\\/t.cn\\\\/A6oy1uis \\u200b\\u200b\\u200b',\n",
       " '#请君# 我的评分：[星星][星星][星星][星星][星星]\\n🌟亮点推荐：\\n#请君# 我的评分：[星星][星星][星星][星星][星星]\\n#任嘉伦陆炎# [鼓掌]#任嘉伦请君# \\n千年追爱双向奔赴，\\n邀君共赴奇幻之路。\\n太精彩了，任嘉伦的剧值得追！\\n🌟电视剧请君｜任嘉伦｜陆炎 @任嘉伦Allen \\u200b\\u200b\\u200b',\n",
       " '#请君# 我的评分：[星星][星星][星星][星星][星星]\\n🌟亮点推荐：\\n#请君# 我的评分：[星星][星星][星星][星星][星星]\\n#任嘉伦陆炎# 🔥#任嘉伦请君# 上古一见，千年感念，君知我意，请君为妻。任嘉伦唱的《吾》太好听了。循环播放🔁前世缘念念不忘，今生守候不离不弃。\\n任嘉伦的演技真的是太赞了 \\u200b\\u200b\\u200b',\n",
       " '杠杠的，不错不错#宋亚轩新自拍展示# 宋亚轩展示一种很新的自拍！视频版小宋自拍来了！真的很帅！帅哥怎么拍都好看！[打call][打call]@时代少年团-宋亚轩 http:\\\\/\\\\/t.cn\\\\/A6obInBp \\u200b\\u200b\\u200b',\n",
       " '这是怎么做到的果然，导演是要放大招，让周亦安在面临报复，担心再也没有机会表白时，终于向叶芯吐露了真心。\\n\\n可是，怎么感觉周亦安的这个表白，有点儿不够真诚呢？\\n\\n是怕叶芯拒绝，故意说得像开玩笑似的？\\n\\n只能说，叶芯还真是个不矫情的姑娘，这么轻易地就答应了周亦安。 \\u200b\\u200b\\u200b',\n",
       " '#肖战[超话]##肖战时影#[心]#肖战肖春生# \\n韶华流光里，\\n俯仰皆是你@X玖少年团肖战DAYTOY @X玖少年团肖战DAYTOY [心][兔子][贊啊]#肖战顺顺利利# \\u200b\\u200b\\u200b']"
      ]
     },
     "execution_count": 49,
     "metadata": {},
     "output_type": "execute_result"
    }
   ],
   "source": [
    "workbook=xw.Workbook(\"ans.xlsx\")\n",
    "worksheet1=workbook.add_worksheet(\"sheet1\")\n",
    "worksheet1.activate()\n",
    "title=['wb_id','time_stamp','user_id','user_name','user_type','is_retweet','wb_content','device','edit','video','region_name','r_wb_id','zhuan','ping','zhan']\n",
    "worksheet1.write_row(\"A1\",title)\n",
    "i=2\n",
    "l=chunk.split('\\n')\n",
    "if l[-1][-1]!='}':\n",
    "    left=l[-1]\n",
    "l=[eval(i[12:]) for i in chunk.split('\\n')[:-1]]\n",
    "to_find=[piece['weibo_content']+piece['r_weibo_content'] for piece in l]\n",
    "qualified_index=[i for i in range(len(to_find)) if exist(to_find[i],keyword)]\n",
    "for d in qualified_index:\n",
    "    region_name=' '\n",
    "    if 'ext' in l[d].keys():\n",
    "        region_name=json.loads(l[d]['ext'])['region_name'].split()[-1] if 'region_name' in json.loads(l[d]['ext']).keys() else ' '\n",
    "    insertData=[l[d]['weibo_id'],l[d]['time_stamp'],l[d]['user_id'],l[d]['nick_name'],l[d]['user_type'],l[d]['is_retweet'],l[d]['weibo_content'],l[d]['device'],l[d]['edited'],l[d]['vedio'],l[d],l[d]['r_weibo_id'],l[d]['zhuan'],l[d]['ping'],l[d]['zhan']]\n",
    "    row='A'+str(i)\n",
    "    worksheet1.write_row(row,insertData)\n",
    "    i+=1\n",
    "    return  os.path.abspath(\"ans.xlsx\")"
   ]
  },
  {
   "cell_type": "code",
   "execution_count": 83,
   "metadata": {},
   "outputs": [],
   "source": [
    "def exist(text,keyword):\n",
    "    for words in keyword:\n",
    "        if check(text,words):\n",
    "            return True\n",
    "    return False\n",
    "    \n",
    "def check(text,keyword):\n",
    "    for word in keyword:\n",
    "        if word not in text:\n",
    "            return False\n",
    "    return True"
   ]
  },
  {
   "cell_type": "code",
   "execution_count": 85,
   "metadata": {},
   "outputs": [
    {
     "data": {
      "text/plain": [
       "True"
      ]
     },
     "execution_count": 85,
     "metadata": {},
     "output_type": "execute_result"
    }
   ],
   "source": [
    "exist('广州在干什么 疫情 发布会',keyword)"
   ]
  },
  {
   "cell_type": "code",
   "execution_count": 65,
   "metadata": {},
   "outputs": [
    {
     "name": "stdout",
     "output_type": "stream",
     "text": [
      "<re.Match object; span=(0, 17), match='a 北京召开第场疫情防控新闻发布会'>\n"
     ]
    }
   ],
   "source": [
    "import re\n",
    "ret=re.match('(.*)北京召开第(.*)场疫情防控新闻发布会(.*)','a 北京召开第场疫情防控新闻发布会')\n",
    "print(ret)"
   ]
  },
  {
   "cell_type": "code",
   "execution_count": 16,
   "metadata": {},
   "outputs": [
    {
     "data": {
      "text/html": [
       "<div>\n",
       "<style scoped>\n",
       "    .dataframe tbody tr th:only-of-type {\n",
       "        vertical-align: middle;\n",
       "    }\n",
       "\n",
       "    .dataframe tbody tr th {\n",
       "        vertical-align: top;\n",
       "    }\n",
       "\n",
       "    .dataframe thead th {\n",
       "        text-align: right;\n",
       "    }\n",
       "</style>\n",
       "<table border=\"1\" class=\"dataframe\">\n",
       "  <thead>\n",
       "    <tr style=\"text-align: right;\">\n",
       "      <th></th>\n",
       "      <th>wb_id</th>\n",
       "      <th>time_stamp</th>\n",
       "      <th>user_id</th>\n",
       "      <th>user_name</th>\n",
       "      <th>user_type</th>\n",
       "      <th>is_retweet</th>\n",
       "      <th>wb_content</th>\n",
       "      <th>device</th>\n",
       "      <th>edit</th>\n",
       "      <th>video</th>\n",
       "      <th>region_name</th>\n",
       "      <th>r_wb_id</th>\n",
       "      <th>zhuan</th>\n",
       "      <th>ping</th>\n",
       "      <th>zhan</th>\n",
       "    </tr>\n",
       "  </thead>\n",
       "  <tbody>\n",
       "  </tbody>\n",
       "</table>\n",
       "</div>"
      ],
      "text/plain": [
       "Empty DataFrame\n",
       "Columns: [wb_id, time_stamp, user_id, user_name, user_type, is_retweet, wb_content, device, edit, video, region_name, r_wb_id, zhuan, ping, zhan]\n",
       "Index: []"
      ]
     },
     "execution_count": 16,
     "metadata": {},
     "output_type": "execute_result"
    }
   ],
   "source": [
    "import time\n",
    "g=read_from_file('weibo_freshdata.2022-10-08/weibo_freshdata.2022-10-08')\n",
    "to_find=[]\n",
    "ans=pd.DataFrame(columns=['wb_id','time_stamp','user_id','user_name','user_type','is_retweet','wb_content','device','edit','video','region_name','r_wb_id','zhuan','ping','zhan'])\n",
    "# t1=time.time()\n",
    "# i=0\n",
    "# for v in g:\n",
    "#     i+=1\n",
    "# t2=time.time()\n",
    "# print(t2-t1)\n",
    "ans"
   ]
  },
  {
   "cell_type": "code",
   "execution_count": 177,
   "metadata": {},
   "outputs": [
    {
     "name": "stdout",
     "output_type": "stream",
     "text": [
      "{'region_name': '发布于 江西', 'r_region_name': '发布于 新加坡'} 5896650802\n",
      "{'region_name': '发布于 上海', 'r_region_name': '发布于 上海'} 1599417577\n",
      "{'region_name': '发布于 江苏', 'r_region_name': '发布于 重庆'} 3006931604\n",
      "{'region_name': '发布于 江苏', 'r_region_name': '发布于 河南'} 1769869792\n",
      "{'region_name': '发布于 江苏', 'r_region_name': '发布于 河南'} 1769869792\n",
      "{'region_name': '发布于 湖南', 'r_region_name': '发布于 广东'} 6134905151\n",
      "{'region_name': '发布于 湖北', 'r_region_name': '发布于 广东'} 3665617890\n",
      "{'region_name': '发布于 浙江', 'r_region_name': '发布于 上海'} 6572780112\n",
      "{'region_name': '发布于 湖南', 'r_region_name': '发布于 北京'} 6235384168\n",
      "{'region_name': '发布于 广东', 'r_region_name': '发布于 安徽'} 7772863862\n",
      "{'region_name': '发布于 北京', 'r_region_name': '发布于 河南'} 1311204207\n",
      "{'region_name': '发布于 四川', 'r_region_name': '发布于 河南'} 1824589574\n",
      "{'region_name': '发布于 河南', 'r_region_name': '发布于 河南'} 7563778554\n",
      "{'region_name': '发布于 福建', 'r_region_name': '发布于 福建'} 1675484215\n",
      "{'region_name': '发布于 江苏', 'r_region_name': '发布于 北京'} 2720743630\n",
      "{'region_name': '发布于 江苏', 'r_region_name': '发布于 澳大利亚'} 2720743630\n",
      "{'region_name': '发布于 上海'} 1609459101\n",
      "{'region_name': '发布于 辽宁', 'r_region_name': '发布于 河南'} 1717224805\n",
      "{'region_name': '发布于 广西', 'r_region_name': '发布于 北京'} 5280165332\n",
      "{'region_name': '发布于 上海', 'r_region_name': '发布于 河南'} 7402287990\n",
      "{'region_name': '发布于 广东', 'r_region_name': '发布于 广东'} 7522065856\n",
      "{'region_name': '发布于 安徽', 'r_region_name': '发布于 安徽'} 7592855352\n",
      "{'region_name': '发布于 河南'} 3754319082\n",
      "{'region_name': '发布于 北京'} 5483712744\n",
      "{'region_name': '发布于 天津', 'r_region_name': '发布于 上海'} 5703358149\n",
      "{'region_name': '发布于 河南', 'r_region_name': '发布于 河南'} 7377535071\n",
      "{'region_name': '发布于 福建', 'r_region_name': '发布于 河南'} 2730068753\n",
      "{'region_name': '发布于 广东', 'r_region_name': '发布于 广东'} 1552746765\n",
      "{'region_name': '发布于 浙江', 'r_region_name': '发布于 河南'} 7210477108\n",
      "{'region_name': '发布于 山东'} 1908051483\n",
      "{'region_name': '发布于 北京', 'r_region_name': '发布于 云南'} 2909353505\n",
      "{'region_name': '发布于 河南', 'r_region_name': '发布于 安徽'} 1984211815\n",
      "{'region_name': '发布于 陕西'} 2179865703\n",
      "{'region_name': '发布于 黑龙江'} 7465593433\n",
      "{'region_name': '发布于 安徽', 'r_region_name': '发布于 河南'} 6243677824\n",
      "{'region_name': '发布于 黑龙江', 'r_region_name': '发布于 上海'} 7465593433\n",
      "{'region_name': '发布于 重庆', 'r_region_name': '发布于 重庆'} 5671512225\n",
      "{'region_name': '发布于 北京', 'r_region_name': '发布于 安徽'} 1167147710\n",
      "{'region_name': '发布于 北京', 'r_region_name': '发布于 河南'} 6752900502\n",
      "{'region_name': '发布于 湖南', 'r_region_name': '发布于 北京'} 1651341811\n",
      "{'region_name': '发布于 河南', 'r_region_name': '发布于 上海'} 1677609633\n",
      "{'region_name': '发布于 河南', 'r_region_name': '发布于 河南'} 7190331174\n",
      "{'region_name': '发布于 广东', 'r_region_name': '发布于 河南'} 2387453143\n",
      "{'region_name': '发布于 云南', 'r_region_name': '发布于 河南'} 7744303208\n",
      "{'region_name': '发布于 广东', 'r_region_name': '发布于 四川'} 6881440144\n",
      "{'region_name': '发布于 陕西', 'r_region_name': '发布于 上海'} 1280746702\n",
      "{'region_name': '发布于 陕西', 'r_region_name': '发布于 上海'} 1280746702\n",
      "{'region_name': '发布于 福建', 'r_region_name': '发布于 上海'} 3281096697\n",
      "{'region_name': '发布于 北京', 'r_region_name': '发布于 河南'} 3223071745\n",
      "{'region_name': '发布于 北京', 'r_region_name': '发布于 上海'} 3223071745\n",
      "{'region_name': '发布于 北京', 'r_region_name': '发布于 广西'} 3787126342\n",
      "{'region_name': '发布于 山东', 'r_region_name': '发布于 广东'} 6806215470\n",
      "{'region_name': '发布于 江苏', 'r_region_name': '发布于 山西'} 1644824463\n",
      "{'region_name': '发布于 陕西', 'r_region_name': '发布于 河南'} 1641513325\n",
      "{'region_name': '发布于 陕西', 'r_region_name': '发布于 新疆'} 1641513325\n",
      "{'region_name': '发布于 陕西', 'r_region_name': '发布于 山东'} 1641513325\n",
      "{'region_name': '发布于 吉林', 'r_region_name': '发布于 河南'} 7255394319\n",
      "{'region_name': '发布于 江苏', 'r_region_name': '发布于 河南'} 6611096981\n",
      "{'region_name': '发布于 江苏', 'r_region_name': '发布于 河南'} 2503894381\n",
      "{'region_name': '发布于 广西', 'r_region_name': '发布于 河南'} 7360170520\n",
      "{'region_name': '发布于 河南', 'r_region_name': '发布于 河南'} 2607008335\n",
      "{'region_name': '发布于 上海', 'r_region_name': '发布于 湖北'} 1760831994\n",
      "{'region_name': '发布于 辽宁'} 1467141782\n",
      "{'region_name': '发布于 上海', 'r_region_name': '发布于 河南'} 1882310261\n",
      "{'region_name': '发布于 上海', 'r_region_name': '发布于 河南'} 1400224110\n",
      "{'region_name': '发布于 湖南', 'r_region_name': '发布于 广东'} 3244861192\n",
      "{'region_name': '发布于 湖北'} 2233879571\n",
      "{'region_name': '发布于 四川', 'r_region_name': '发布于 河南'} 1830601174\n",
      "{'region_name': '发布于 河北', 'r_region_name': '发布于 北京'} 2637689665\n",
      "{'region_name': '发布于 广东', 'r_region_name': '发布于 河南'} 2995936710\n",
      "{'region_name': '发布于 内蒙古', 'r_region_name': '发布于 广东'} 2610567311\n",
      "{'region_name': '发布于 贵州'} 5300170496\n",
      "{'region_name': '发布于 安徽', 'r_region_name': '发布于 上海'} 7575291152\n",
      "{'region_name': '发布于 湖南', 'r_region_name': '发布于 四川'} 5715166197\n",
      "{'region_name': '发布于 河南', 'r_region_name': '发布于 山东'} 7436400277\n",
      "{'region_name': '发布于 北京', 'r_region_name': '发布于 北京'} 1403936721\n",
      "{'region_name': '发布于 辽宁', 'r_region_name': '发布于 浙江'} 7606386361\n",
      "{'region_name': '发布于 陕西', 'r_region_name': '发布于 法国'} 5465103868\n",
      "{'region_name': '发布于 广东'} 1744998263\n",
      "{'region_name': '发布于 山东', 'r_region_name': '发布于 河南'} 1395656245\n",
      "{'region_name': '发布于 山东'} 7323320003\n",
      "{'region_name': '发布于 福建', 'r_region_name': '发布于 新加坡'} 7280163578\n",
      "{'region_name': '发布于 上海', 'r_region_name': '发布于 上海'} 7394732416\n",
      "{'region_name': '发布于 河南', 'r_region_name': '发布于 河南'} 1984211815\n",
      "{'region_name': '发布于 河南', 'r_region_name': '发布于 河南'} 6514042608\n",
      "{'region_name': '发布于 河南', 'r_region_name': '发布于 河南'} 7063607784\n",
      "{'region_name': '发布于 河南'} 2481245603\n",
      "{'region_name': '发布于 上海', 'r_region_name': '发布于 河南'} 7554233510\n",
      "{'region_name': '发布于 黑龙江', 'r_region_name': '发布于 广东'} 1458170934\n",
      "{'region_name': '发布于 贵州'} 6202393591\n",
      "{'region_name': '发布于 德国', 'r_region_name': '发布于 北京'} 2382887074\n",
      "{'region_name': '发布于 河南', 'r_region_name': '发布于 上海'} 1671377647\n",
      "{'region_name': '发布于 河南', 'r_region_name': '发布于 河南'} 1671377647\n",
      "{'region_name': '发布于 浙江', 'r_region_name': '发布于 河南'} 7711927430\n",
      "{'region_name': '发布于 广东', 'r_region_name': '发布于 广东'} 2209980680\n",
      "{'region_name': '发布于 河南', 'r_region_name': '发布于 河南'} 1727715914\n",
      "{'region_name': '发布于 江西', 'r_region_name': '发布于 山东'} 7217532677\n",
      "{'region_name': '发布于 上海'} 1837523463\n",
      "{'region_name': '发布于 广东'} 1793015120\n",
      "{'region_name': '发布于 广东', 'r_region_name': '发布于 广东'} 1793015120\n",
      "{'region_name': '发布于 广东', 'r_region_name': '发布于 甘肃'} 1793015120\n",
      "{'region_name': '发布于 四川'} 1872290004\n",
      "{'region_name': '发布于 河南', 'r_region_name': '发布于 河南'} 7478058015\n",
      "{'region_name': '发布于 云南', 'r_region_name': '发布于 四川'} 7544684851\n",
      "{'region_name': '发布于 浙江', 'r_region_name': '发布于 江苏'} 1116674991\n",
      "{'region_name': '发布于 上海', 'r_region_name': '发布于 河南'} 1878144350\n",
      "{'region_name': '发布于 河南', 'r_region_name': '发布于 河南'} 5021616520\n",
      "{'region_name': '发布于 江苏', 'r_region_name': '发布于 福建'} 1719123825\n",
      "{'region_name': '发布于 山西', 'r_region_name': '发布于 日本'} 7443967984\n",
      "{'region_name': '发布于 上海', 'r_region_name': '发布于 浙江'} 3198541032\n",
      "{'region_name': '发布于 天津', 'r_region_name': '发布于 河南'} 1937548771\n",
      "{'region_name': '发布于 江苏', 'r_region_name': '发布于 上海'} 5181881937\n",
      "{'region_name': '发布于 广东', 'r_region_name': '发布于 河南'} 1875979614\n",
      "{'region_name': '发布于 广西', 'r_region_name': '发布于 陕西'} 6526771221\n",
      "{'region_name': '发布于 江苏', 'r_region_name': '发布于 河南'} 5555976368\n",
      "{'region_name': '发布于 河北', 'r_region_name': '发布于 广东'} 2179053643\n",
      "{'region_name': '发布于 湖南'} 5700040303\n",
      "{'region_name': '发布于 河南'} 5198806862\n",
      "{'region_name': '发布于 美国', 'r_region_name': '发布于 浙江'} 5192885898\n",
      "{'region_name': '发布于 河南'} 5289557301\n",
      "{'region_name': '发布于 广东'} 5649442951\n",
      "{'region_name': '发布于 江苏', 'r_region_name': '发布于 广东'} 7451321538\n",
      "{'region_name': '发布于 江苏'} 1834722652\n",
      "{'region_name': '发布于 湖南', 'r_region_name': '发布于 北京'} 6510178001\n",
      "{'region_name': '发布于 福建', 'r_region_name': '发布于 广东'} 1829169280\n",
      "{'region_name': '发布于 河南', 'r_region_name': '发布于 安徽'} 5996063080\n",
      "{'region_name': '发布于 河南', 'r_region_name': '发布于 四川'} 7387046554\n",
      "{'region_name': '发布于 甘肃'} 2741772661\n",
      "{'region_name': '发布于 中国澳门', 'r_region_name': '发布于 河南'} 2997253907\n",
      "{'region_name': '发布于 广东', 'r_region_name': '发布于 四川'} 5272684535\n",
      "{'region_name': '发布于 云南', 'r_region_name': '发布于 河南'} 7744303208\n",
      "{'region_name': '发布于 辽宁', 'r_region_name': '发布于 北京'} 7526955946\n",
      "{'region_name': '发布于 广东'} 6082166140\n",
      "{'region_name': '发布于 上海', 'r_region_name': '发布于 北京'} 6068622081\n",
      "{'region_name': '发布于 广东', 'r_region_name': '发布于 新加坡'} 3216134114\n",
      "{'region_name': '发布于 江苏', 'r_region_name': '发布于 河南'} 3933037031\n",
      "{'region_name': '发布于 河南', 'r_region_name': '发布于 广东'} 2501230330\n",
      "{'region_name': '发布于 河南', 'r_region_name': '发布于 湖北'} 5545183350\n",
      "{'region_name': '发布于 四川', 'r_region_name': '发布于 广东'} 6293678562\n",
      "{'region_name': '发布于 北京', 'r_region_name': '发布于 北京'} 5971691066\n",
      "{'region_name': '发布于 天津', 'r_region_name': '发布于 河南'} 1732050374\n",
      "{'region_name': '发布于 浙江', 'r_region_name': '发布于 安徽'} 7748327164\n",
      "{'region_name': '发布于 湖南'} 5923989691\n",
      "{'region_name': '发布于 内蒙古', 'r_region_name': '发布于 内蒙古'} 6429164462\n",
      "{'region_name': '发布于 吉林', 'r_region_name': '发布于 广东'} 7443727657\n",
      "{'region_name': '发布于 四川', 'r_region_name': '发布于 四川'} 6318950797\n",
      "{'region_name': '发布于 新疆', 'r_region_name': '发布于 福建'} 3108716721\n",
      "{'region_name': '发布于 北京', 'r_region_name': '发布于 四川'} 2316886551\n",
      "{'region_name': '发布于 美国', 'r_region_name': '发布于 中国香港'} 1970320731\n",
      "{'region_name': '发布于 河南'} 6000229285\n",
      "{'region_name': '发布于 江苏'} 5260529967\n",
      "{'region_name': '发布于 河南'} 2764089921\n",
      "{'region_name': '发布于 河南'} 1751287901\n",
      "{'region_name': '发布于 河南'} 7193232774\n",
      "{'region_name': '发布于 河南'} 6590142409\n",
      "{'region_name': '发布于 贵州'} 1913058113\n",
      "{'region_name': '发布于 重庆'} 1095459501\n",
      "{'region_name': '发布于 美国', 'r_region_name': '发布于 河南'} 1721232875\n",
      "{'region_name': '发布于 辽宁'} 1840278660\n",
      "{'region_name': '发布于 江西', 'r_region_name': '发布于 北京'} 6029087251\n",
      "{'region_name': '发布于 北京'} 2505696161\n",
      "{'region_name': '发布于 河南'} 6556289521\n",
      "{'region_name': '发布于 山东', 'r_region_name': '发布于 陕西'} 6568155121\n",
      "{'region_name': '发布于 广东', 'r_region_name': '发布于 浙江'} 1771915014\n",
      "{'region_name': '发布于 河南'} 5899420315\n",
      "{'region_name': '发布于 天津'} 1941386334\n",
      "{'region_name': '发布于 河南'} 6192369750\n",
      "{'region_name': '发布于 河南', 'r_region_name': '发布于 河南'} 6358507477\n",
      "{'region_name': '发布于 山东'} 6313202910\n",
      "{'region_name': '发布于 重庆', 'r_region_name': '发布于 江苏'} 5097568608\n",
      "{'region_name': '发布于 河南'} 5933333207\n",
      "{'region_name': '发布于 上海', 'r_region_name': '发布于 河北'} 3148934640\n",
      "{'region_name': '发布于 河南', 'r_region_name': '发布于 上海'} 7387366854\n",
      "{'region_name': '发布于 广东', 'r_region_name': '发布于 河南'} 1098049203\n",
      "{'region_name': '发布于 四川', 'r_region_name': '发布于 江西'} 1786599037\n",
      "{'region_name': '发布于 江苏', 'r_region_name': '发布于 山东'} 2387282730\n",
      "{'region_name': '发布于 安徽'} 6409615960\n",
      "{'region_name': '发布于 河南'} 2416823155\n",
      "{'region_name': '发布于 浙江', 'r_region_name': '发布于 浙江'} 7742128889\n",
      "{'region_name': '发布于 北京', 'r_region_name': '发布于 河南'} 5386032774\n",
      "{'region_name': '发布于 上海', 'r_region_name': '发布于 湖北'} 7349299974\n",
      "{'region_name': '发布于 河南', 'r_region_name': '发布于 河南'} 3638542793\n",
      "{'region_name': '发布于 北京'} 3173194821\n",
      "{'region_name': '发布于 河南'} 5861384516\n",
      "{'region_name': '发布于 河南', 'r_region_name': '发布于 上海'} 3903278498\n",
      "{'region_name': '发布于 河南'} 7574923995\n",
      "{'region_name': '发布于 江苏'} 6337198147\n",
      "{'region_name': '发布于 河南', 'r_region_name': '发布于 河南'} 2615582011\n",
      "{'region_name': '发布于 河南'} 1750397893\n",
      "{'region_name': '发布于 江苏', 'r_region_name': '发布于 河南'} 7319537154\n",
      "{'region_name': '发布于 新疆', 'r_region_name': '发布于 北京'} 6897498830\n",
      "{'region_name': '发布于 上海'} 1962936853\n",
      "{'region_name': '发布于 湖北'} 1242385665\n",
      "{'region_name': '发布于 北京', 'r_region_name': '发布于 浙江'} 6754223482\n",
      "{'region_name': '发布于 河南', 'r_region_name': '发布于 海南'} 1639475157\n",
      "{'region_name': '发布于 广东'} 6184073136\n",
      "{'region_name': '发布于 河南', 'r_region_name': '发布于 河南'} 2668366943\n",
      "{'region_name': '发布于 英国', 'r_region_name': '发布于 黑龙江'} 2183215440\n",
      "{'region_name': '发布于 北京'} 1465377451\n",
      "{'region_name': '发布于 河北'} 5585958708\n",
      "{'region_name': '发布于 吉林', 'r_region_name': '发布于 上海'} 6649875868\n",
      "{'region_name': '发布于 江苏', 'r_region_name': '发布于 江苏'} 7564503379\n",
      "{'region_name': '发布于 河南', 'r_region_name': '发布于 上海'} 2839207323\n",
      "{'region_name': '发布于 广东', 'r_region_name': '发布于 河南'} 1994354381\n",
      "{'region_name': '发布于 江苏'} 3272114271\n",
      "{'region_name': '发布于 江苏', 'r_region_name': '发布于 广西'} 3272114271\n",
      "{'region_name': '发布于 日本', 'r_region_name': '发布于 广东'} 1752306371\n",
      "{'region_name': '发布于 河南', 'r_region_name': '发布于 河南'} 7236864387\n",
      "{'region_name': '发布于 江苏', 'r_region_name': '发布于 江苏'} 5613587832\n",
      "{'region_name': '发布于 河南', 'r_region_name': '发布于 福建'} 3887262806\n",
      "{'region_name': '发布于 山东'} 7493471890\n",
      "{'region_name': '发布于 河南', 'r_region_name': '发布于 海南'} 3525911361\n",
      "{'region_name': '发布于 河南', 'r_region_name': '发布于 河南'} 6576892705\n",
      "{'region_name': '发布于 河南'} 2944813303\n",
      "{'region_name': '发布于 陕西', 'r_region_name': '发布于 陕西'} 3171605141\n",
      "{'region_name': '发布于 河南', 'r_region_name': '发布于 上海'} 7210591248\n",
      "{} 5107275201\n",
      "{'region_name': '发布于 河南', 'r_region_name': '发布于 河南'} 6048169718\n",
      "{'region_name': '云南', 'r_region_name': '上海'} 7197672533\n",
      "{} 5112330142\n",
      "{'region_name': '发布于 北京'} 6980045566\n",
      "{'region_name': '发布于 北京', 'r_region_name': '发布于 河南'} 1767066693\n",
      "{'region_name': '发布于 河北', 'r_region_name': '发布于 广东'} 3207252387\n",
      "{'region_name': '发布于 河北', 'r_region_name': '发布于 河南'} 3207252387\n",
      "{'region_name': '发布于 北京', 'r_region_name': '发布于 广西'} 2407402372\n",
      "{'region_name': '发布于 北京', 'r_region_name': '发布于 北京'} 1284471504\n",
      "{'region_name': '发布于 河南'} 5742846046\n",
      "{'region_name': '发布于 河南', 'r_region_name': '发布于 浙江'} 3178981712\n",
      "{'region_name': '发布于 河南'} 1690545873\n",
      "{'region_name': '发布于 天津', 'r_region_name': '发布于 北京'} 2921556813\n",
      "{'region_name': '发布于 北京', 'r_region_name': '发布于 北京'} 7360955357\n",
      "{'region_name': '发布于 河南', 'r_region_name': '发布于 广西'} 1784026452\n",
      "{'region_name': '发布于 重庆'} 6035578280\n",
      "{'region_name': '发布于 北京', 'r_region_name': '发布于 北京'} 1226066290\n",
      "{'region_name': '发布于 上海', 'r_region_name': '发布于 河南'} 1725044413\n",
      "{'region_name': '发布于 河南', 'r_region_name': '发布于 河南'} 7729076367\n",
      "{'region_name': '发布于 河南'} 6513956034\n",
      "{'region_name': '发布于 四川'} 2247677865\n",
      "{'region_name': '发布于 河南'} 1807793222\n",
      "{'region_name': '发布于 河南', 'r_region_name': '发布于 新疆'} 2742254103\n",
      "{'region_name': '发布于 上海', 'r_region_name': '发布于 北京'} 1248705823\n",
      "{'region_name': '发布于 山东', 'r_region_name': '发布于 河南'} 5500261581\n",
      "{'region_name': '发布于 山西', 'r_region_name': '发布于 陕西'} 5137369071\n",
      "{'region_name': '发布于 北京', 'r_region_name': '发布于 北京'} 1419875895\n",
      "{'region_name': '发布于 河南'} 1783562103\n",
      "{'region_name': '发布于 中国', 'r_region_name': '发布于 广东'} 5602190145\n",
      "{'region_name': '发布于 河南', 'r_region_name': '发布于 安徽'} 5096385649\n",
      "{'r_region_name': '发布于 北京'} 1881124713\n",
      "{'region_name': '发布于 河南'} 7299884534\n",
      "{'region_name': '发布于 江苏', 'r_region_name': '发布于 河南'} 7325013697\n",
      "{'region_name': '发布于 浙江', 'r_region_name': '发布于 新疆'} 7351343570\n",
      "{'region_name': '发布于 北京', 'r_region_name': '发布于 西班牙'} 3193643662\n",
      "{'region_name': '发布于 河南', 'r_region_name': '发布于 河南'} 6081912003\n",
      "{'region_name': '发布于 广东', 'r_region_name': '发布于 广东'} 5650807560\n",
      "{'region_name': '发布于 北京'} 2470251870\n",
      "{'region_name': '发布于 河南', 'r_region_name': '发布于 山东'} 2013081525\n",
      "{'region_name': '发布于 河南', 'r_region_name': '发布于 山西'} 5200423491\n",
      "{'region_name': '发布于 内蒙古', 'r_region_name': '发布于 四川'} 6453452952\n",
      "{'region_name': '发布于 河南', 'r_region_name': '发布于 江苏'} 6570006026\n",
      "{'region_name': '发布于 甘肃', 'r_region_name': '发布于 北京'} 6309985015\n",
      "{'region_name': '发布于 河南'} 2003152097\n",
      "{'region_name': '发布于 浙江'} 2584665335\n",
      "{'region_name': '发布于 山东'} 7400815425\n",
      "{'region_name': '发布于 河南'} 3675821012\n",
      "{'region_name': '发布于 河南'} 3675821012\n",
      "{'region_name': '发布于 上海', 'r_region_name': '发布于 山西'} 3294745633\n",
      "{'region_name': '发布于 浙江', 'r_region_name': '发布于 河南'} 6083376233\n",
      "{'region_name': '发布于 中国澳门', 'r_region_name': '发布于 山东'} 5044924394\n",
      "{'region_name': '发布于 四川', 'r_region_name': '发布于 北京'} 1475474001\n",
      "{'region_name': '发布于 河南'} 7134571144\n",
      "{'region_name': '发布于 北京', 'r_region_name': '发布于 福建'} 1720116647\n",
      "{'region_name': '发布于 河南', 'r_region_name': '发布于 上海'} 7434777629\n",
      "{'region_name': '发布于 四川', 'r_region_name': '发布于 河南'} 2632590410\n",
      "{'region_name': '发布于 广东'} 5661225152\n",
      "{'region_name': '发布于 河南'} 6129870121\n",
      "{'region_name': '发布于 北京', 'r_region_name': '发布于 北京'} 7369085182\n",
      "{'region_name': '发布于 湖南', 'r_region_name': '发布于 河南'} 6665991514\n",
      "{'region_name': '发布于 山东', 'r_region_name': '发布于 湖北'} 1840432017\n",
      "{'region_name': '发布于 河南', 'r_region_name': '发布于 湖北'} 1641733177\n",
      "{'region_name': '发布于 广东', 'r_region_name': '发布于 河南'} 2987604790\n",
      "{'region_name': '发布于 河南', 'r_region_name': '发布于 浙江'} 1685357850\n",
      "{'region_name': '发布于 内蒙古', 'r_region_name': '发布于 浙江'} 7034852531\n",
      "{'region_name': '发布于 河南'} 6882809705\n",
      "{'region_name': '发布于 天津'} 2044819937\n",
      "{'region_name': '发布于 安徽', 'r_region_name': '发布于 河南'} 1820742931\n",
      "{'region_name': '发布于 河南'} 3781771833\n",
      "{'region_name': '发布于 河南'} 2053815707\n",
      "{'region_name': '发布于 北京', 'r_region_name': '发布于 北京'} 5561425292\n",
      "{'region_name': '发布于 河南'} 2670058463\n",
      "{'region_name': '发布于 河南'} 5836877978\n",
      "{'region_name': '发布于 河南', 'r_region_name': '发布于 河南'} 1780529650\n",
      "{'region_name': '发布于 河南', 'r_region_name': '发布于 广东'} 6817201595\n",
      "{'region_name': '发布于 河南', 'r_region_name': '发布于 河南'} 6603392071\n",
      "{'region_name': '发布于 山东', 'r_region_name': '发布于 北京'} 6343115580\n",
      "{'region_name': '发布于 山东', 'r_region_name': '发布于 北京'} 5234977404\n",
      "{'region_name': '发布于 江苏', 'r_region_name': '发布于 河南'} 2992622361\n",
      "{'region_name': '发布于 江苏', 'r_region_name': '发布于 河南'} 1956553102\n",
      "{'region_name': '发布于 湖南', 'r_region_name': '发布于 广东'} 7747118395\n",
      "{'region_name': '发布于 河南', 'r_region_name': '发布于 河南'} 2752089757\n",
      "{'region_name': '发布于 河南'} 1406768991\n",
      "{'region_name': '发布于 河南'} 5202272672\n",
      "{'region_name': '发布于 广东'} 2281895785\n",
      "{'region_name': '发布于 河南'} 5034200594\n",
      "{'region_name': '发布于 河南'} 5034200594\n",
      "{'region_name': '发布于 陕西'} 5398059054\n",
      "{'region_name': '发布于 陕西', 'r_region_name': '发布于 河南'} 1702046552\n",
      "{'region_name': '发布于 广东', 'r_region_name': '发布于 美国'} 5089788815\n",
      "{'region_name': '发布于 广东', 'r_region_name': '发布于 陕西'} 5089788815\n",
      "{'region_name': '发布于 甘肃', 'r_region_name': '发布于 河南'} 5614620986\n",
      "{'region_name': '发布于 河南', 'r_region_name': '发布于 河南'} 5940271938\n",
      "{'region_name': '发布于 河南'} 7700524956\n",
      "{'region_name': '发布于 河南'} 5729071038\n",
      "{'region_name': '发布于 江西', 'r_region_name': '发布于 浙江'} 2093674024\n",
      "{'region_name': '发布于 北京', 'r_region_name': '发布于 河南'} 1803488041\n",
      "{'region_name': '发布于 北京', 'r_region_name': '发布于 河南'} 1803488041\n",
      "{'region_name': '发布于 河北', 'r_region_name': '发布于 湖北'} 6477616970\n",
      "{'region_name': '发布于 北京', 'r_region_name': '发布于 北京'} 2125646901\n",
      "{'region_name': '发布于 河南', 'r_region_name': '发布于 日本'} 3980017666\n",
      "{'region_name': '发布于 山东'} 6014079790\n",
      "{'region_name': '发布于 四川', 'r_region_name': '发布于 重庆'} 6603677795\n",
      "{'region_name': '发布于 河南'} 1069750104\n",
      "{'region_name': '发布于 河南'} 6367250182\n",
      "{'region_name': '发布于 河南'} 5865820245\n",
      "{'region_name': '发布于 河南', 'r_region_name': '发布于 河南'} 1870177487\n",
      "{'region_name': '发布于 河南'} 2623130385\n",
      "{'region_name': '发布于 河南', 'r_region_name': '发布于 河南'} 7615035526\n",
      "{'region_name': '发布于 北京', 'r_region_name': '发布于 北京'} 2958843051\n",
      "{'region_name': '发布于 河南'} 1458348121\n",
      "{'region_name': '发布于 四川', 'r_region_name': '发布于 浙江'} 7548890665\n",
      "{'region_name': '发布于 广东', 'r_region_name': '发布于 辽宁'} 7677963440\n",
      "{'region_name': '发布于 浙江'} 1705390990\n",
      "{'region_name': '发布于 浙江', 'r_region_name': '发布于 河南'} 7351343570\n",
      "{'region_name': '发布于 江苏', 'r_region_name': '发布于 江苏'} 3272114271\n",
      "{'region_name': '发布于 上海'} 5221025413\n",
      "{'region_name': '发布于 安徽', 'r_region_name': '发布于 上海'} 5267131210\n",
      "{'region_name': '发布于 甘肃', 'r_region_name': '发布于 广东'} 3606958861\n",
      "{'region_name': '发布于 河南', 'r_region_name': '发布于 河南'} 5680657831\n",
      "{'region_name': '发布于 河南', 'r_region_name': '发布于 北京'} 6054878383\n",
      "{'region_name': '发布于 福建'} 6509249539\n",
      "{'region_name': '发布于 四川', 'r_region_name': '发布于 河南'} 1467193450\n",
      "{'region_name': '发布于 四川', 'r_region_name': '发布于 北京'} 7650906360\n",
      "{'region_name': '发布于 河南', 'r_region_name': '发布于 河南'} 1783510524\n",
      "{'region_name': '发布于 河南'} 2112752043\n",
      "{'region_name': '发布于 河南'} 5331231703\n",
      "{'region_name': '发布于 美国'} 5574839336\n",
      "{'region_name': '发布于 广东'} 1176120640\n",
      "{'region_name': '发布于 江苏', 'r_region_name': '发布于 安徽'} 6078021329\n",
      "{'region_name': '发布于 河南', 'r_region_name': '发布于 河南'} 7278771340\n",
      "{'region_name': '发布于 北京', 'r_region_name': '发布于 北京'} 2249011604\n",
      "{'region_name': '发布于 河南'} 6451984037\n",
      "{'region_name': '发布于 江苏', 'r_region_name': '发布于 河南'} 5670734989\n",
      "{'region_name': '发布于 河南'} 6629076553\n",
      "{} 1499104401\n",
      "{'region_name': '发布于 江苏', 'r_region_name': '发布于 广东'} 2720743630\n",
      "{'region_name': '发布于 四川', 'r_region_name': '发布于 上海'} 2736634351\n",
      "{'region_name': '发布于 河南'} 7563731788\n",
      "{'region_name': '发布于 中国香港', 'r_region_name': '发布于 河南'} 6733085253\n",
      "{'region_name': '发布于 浙江', 'r_region_name': '发布于 北京'} 7758748209\n",
      "{'region_name': '发布于 北京'} 3896411040\n",
      "{'region_name': '发布于 河北', 'r_region_name': '发布于 河南'} 7719238394\n",
      "{'region_name': '发布于 河南', 'r_region_name': '发布于 河南'} 6519892860\n",
      "{'region_name': '发布于 江苏', 'r_region_name': '发布于 浙江'} 2720743630\n",
      "{'region_name': '发布于 北京', 'r_region_name': '发布于 山东'} 7740561883\n",
      "{'region_name': '发布于 中国香港', 'r_region_name': '发布于 江苏'} 7337843371\n",
      "{'region_name': '发布于 河南'} 1442092287\n",
      "{'region_name': '发布于 江苏'} 1647962170\n",
      "{'region_name': '发布于 广西', 'r_region_name': '发布于 贵州'} 5304194385\n",
      "{'region_name': '发布于 湖南', 'r_region_name': '发布于 新加坡'} 6201309253\n",
      "{'region_name': '发布于 法国', 'r_region_name': '发布于 福建'} 2391880765\n",
      "{'region_name': '发布于 广东'} 2538208327\n",
      "{'region_name': '发布于 甘肃', 'r_region_name': '发布于 河南'} 3799335641\n",
      "{'region_name': '发布于 河南'} 3803114864\n",
      "{'region_name': '发布于 上海', 'r_region_name': '发布于 湖南'} 1616690550\n",
      "{'region_name': '发布于 北京', 'r_region_name': '发布于 北京'} 5500722008\n",
      "{'region_name': '发布于 北京'} 2392711691\n",
      "{'region_name': '发布于 浙江', 'r_region_name': '发布于 北京'} 1871371624\n",
      "{'region_name': '发布于 陕西'} 6582754233\n",
      "{'region_name': '发布于 北京'} 2292248415\n",
      "{'region_name': '发布于 四川'} 1564961192\n"
     ]
    }
   ],
   "source": [
    "g=Graph()\n",
    "keyword=['郑州暴雨','郑州720一周年','特大暴雨']\n",
    "t=1\n",
    "with open('weibo_freshdata.2022-07-21','r',encoding='utf-8') as f:\n",
    "    for line in f:\n",
    "        t=t+1\n",
    "        piece=eval(line[11:])\n",
    "        content=piece['weibo_content']\n",
    "        rcontent=piece['r_weibo_content']\n",
    "        if exist([content,rcontent],keyword):\n",
    "            if not g.__contains__(piece['user_id']):\n",
    "                g.addVertex(piece['user_id'],piece['nick_name'],piece['user_type'])\n",
    "\n",
    "            g.updateVertex(piece['id'],\n",
    "                        piece['user_id'],\n",
    "                        piece['is_retweet'],\n",
    "                        piece['user_type'],\n",
    "                        piece['nick_name'],\n",
    "                        piece['weibo_content'],\n",
    "                        piece['r_weibo_content'],\n",
    "                        json.loads(piece['ext'])['region_name'].split()[-1] if 'region_name' in json.loads(piece['ext']).keys() else ' ',\n",
    "                        piece['time'],\n",
    "                        piece['zhuan'],\n",
    "                        piece['ping'],\n",
    "                        piece['zhan']\n",
    "            )\n",
    "\n",
    "\n",
    "            if piece['is_retweet']=='1':\n",
    "                if not g.__contains__(piece['r_user_id']):  #\n",
    "                    g.addVertex(piece['r_user_id'],piece['r_nick_name'],piece['r_user_type'])\n",
    "\n",
    "                r_user=g.getVertex(piece['r_user_id'])\n",
    "                \n",
    "                if not r_user.getWeibo(piece['r_weibo_id']):\n",
    "                    print(json.loads(piece['ext']),piece['user_id'])\n",
    "                    g.updateVertex(piece['r_weibo_id'],\n",
    "                        piece['r_user_id'],\n",
    "                        0,\n",
    "                        piece['r_user_type'],\n",
    "                        piece['r_nick_name'],\n",
    "                        piece['r_weibo_content'],\n",
    "                        '',\n",
    "                        json.loads(piece['ext'])['r_region_name'].split()[-1] if 'r_region_name' in json.loads(piece['ext']).keys() else ' ',\n",
    "                        piece['r_time'],\n",
    "                        piece['r_zhuan'],\n",
    "                        piece['r_ping'],\n",
    "                        piece['r_zhan']\n",
    "            )\n",
    "                g.addEdge(piece[\"r_user_id\"],piece[\"user_id\"])\n",
    "    "
   ]
  },
  {
   "cell_type": "code",
   "execution_count": 178,
   "metadata": {},
   "outputs": [
    {
     "data": {
      "text/plain": [
       "31998"
      ]
     },
     "execution_count": 178,
     "metadata": {},
     "output_type": "execute_result"
    }
   ],
   "source": [
    "g.numVertices"
   ]
  },
  {
   "cell_type": "code",
   "execution_count": 179,
   "metadata": {},
   "outputs": [],
   "source": [
    "import networkx as nx\n",
    "import matplotlib.pyplot as plt "
   ]
  },
  {
   "cell_type": "code",
   "execution_count": 180,
   "metadata": {},
   "outputs": [],
   "source": [
    "def Visulization(g):\n",
    "    gs=nx.Graph() #graph to show \n",
    "    nodeslist=[]\n",
    "    \n",
    "    for user_id in g.verList.keys():\n",
    "        color=' '\n",
    "        if g.verList[user_id].user_type=='普通用户':\n",
    "            color='black'\n",
    "        elif g.verList[user_id].user_type=='达人':\n",
    "            color='grey'\n",
    "        elif g.verList[user_id].user_type=='蓝V':\n",
    "            color='blue'\n",
    "        elif g.verList[user_id].user_type=='黄V':\n",
    "            color='yellow'\n",
    "        elif g.verList[user_id].user_type=='金V':\n",
    "            color='red'\n",
    "        node=(user_id,{'color':color,'user_type':g.verList[user_id].user_type})\n",
    "        nodeslist.append(node)\n",
    "    \n",
    "    gs.add_nodes_from(nodeslist)\n",
    "    #转发边关系\n",
    "    edgeslist=[]\n",
    "    for user_id in g.verList.keys():\n",
    "        if g.verList[user_id].connectedTo:\n",
    "            for key in g.verList[user_id].connectedTo.keys():\n",
    "                edge=(user_id,key,{'weight':g.verList[user_id].connectedTo[key]})\n",
    "                #print(edgeslist)\n",
    "                edgeslist.append(edge)\n",
    "    \n",
    "    gs.add_edges_from(edgeslist)\n",
    "\n",
    "    print(gs.number_of_nodes())\n",
    "    print(gs.number_of_edges())\n",
    "    nx.draw(gs)\n",
    "    plt.show()"
   ]
  },
  {
   "cell_type": "code",
   "execution_count": 181,
   "metadata": {},
   "outputs": [],
   "source": [
    "#使用Pyvis\n",
    "from pyvis.network import Network\n",
    "def Visualizaiton_by_pyvis(g):\n",
    "    net=Network()\n",
    "    t=1\n",
    "    color=' '\n",
    "    shape='dot'\n",
    "    size=3\n",
    "    weight=1\n",
    "\n",
    "    for user_id in g.verList.keys():\n",
    "        if t==5000:\n",
    "            break\n",
    "        if g.verList[user_id].user_type=='普通用户':\n",
    "            color='grey'\n",
    "            size=3\n",
    "            shape='dot'\n",
    "        elif g.verList[user_id].user_type=='达人':\n",
    "            color='black'\n",
    "            size=5\n",
    "            shape='triangle'\n",
    "        elif g.verList[user_id].user_type=='蓝V':\n",
    "            color='blue'\n",
    "            size=7\n",
    "            shape='square'\n",
    "        elif g.verList[user_id].user_type=='黄V':\n",
    "            color='yellow'\n",
    "            size=9\n",
    "            shape='triangleDown'\n",
    "        elif g.verList[user_id].user_type=='金V':\n",
    "            color='red'\n",
    "            size=12\n",
    "            shape='star'\n",
    "        \n",
    "        net.add_node(user_id,color=color,size=size,shape=shape,title=g.verList[user_id].user_name)\n",
    "        t=t+1\n",
    "    \n",
    "    #转发边关系\n",
    "    # for user_id in g.verList.keys():\n",
    "    #     if g.verList[user_id].connectedTo:\n",
    "    #         for key in g.verList[user_id].connectedTo.keys():\n",
    "    #             net.add_edge(user_id,key,value=g.verList[user_id].connectedTo[key],title=g.verList[user_id].connectedTo[key])\n",
    "    net.show(name='5000nodes.html')"
   ]
  },
  {
   "cell_type": "code",
   "execution_count": 182,
   "metadata": {},
   "outputs": [],
   "source": [
    "import xlsxwriter as xw"
   ]
  },
  {
   "cell_type": "code",
   "execution_count": 183,
   "metadata": {},
   "outputs": [],
   "source": [
    "#点表格\n",
    "workbook=xw.Workbook(\"nodeslist.xlsx\")\n",
    "worksheet1=workbook.add_worksheet(\"sheet1\")\n",
    "worksheet1.activate()\n",
    "title=['id','name','label'] #id 用户名 用户属性\n",
    "worksheet1.write_row('A1',title)\n",
    "i=2\n",
    "for j in range(g.numVertices):\n",
    "    nodes=list(g.verList.keys())\n",
    "    insertData=[nodes[j],(g.getVertex(nodes[j])).user_name,(g.getVertex(nodes[j])).user_type]\n",
    "    row='A'+str(i)\n",
    "    worksheet1.write_row(row,insertData)\n",
    "    i+=1\n",
    "workbook.close()"
   ]
  },
  {
   "cell_type": "code",
   "execution_count": 133,
   "metadata": {},
   "outputs": [],
   "source": [
    "nodes=list(g.getVertices())"
   ]
  },
  {
   "cell_type": "code",
   "execution_count": 1,
   "metadata": {},
   "outputs": [
    {
     "ename": "NameError",
     "evalue": "name 'g' is not defined",
     "output_type": "error",
     "traceback": [
      "\u001b[1;31m---------------------------------------------------------------------------\u001b[0m",
      "\u001b[1;31mNameError\u001b[0m                                 Traceback (most recent call last)",
      "\u001b[1;32m<ipython-input-1-2abb7941a4bd>\u001b[0m in \u001b[0;36m<module>\u001b[1;34m\u001b[0m\n\u001b[0;32m      1\u001b[0m \u001b[1;31m#关系表格\u001b[0m\u001b[1;33m\u001b[0m\u001b[1;33m\u001b[0m\u001b[1;33m\u001b[0m\u001b[0m\n\u001b[1;32m----> 2\u001b[1;33m \u001b[0mnodes\u001b[0m\u001b[1;33m=\u001b[0m\u001b[0mlist\u001b[0m\u001b[1;33m(\u001b[0m\u001b[0mg\u001b[0m\u001b[1;33m.\u001b[0m\u001b[0mgetVertices\u001b[0m\u001b[1;33m(\u001b[0m\u001b[1;33m)\u001b[0m\u001b[1;33m)\u001b[0m\u001b[1;33m\u001b[0m\u001b[1;33m\u001b[0m\u001b[0m\n\u001b[0m\u001b[0;32m      3\u001b[0m \u001b[0mworkbook\u001b[0m\u001b[1;33m=\u001b[0m\u001b[0mxw\u001b[0m\u001b[1;33m.\u001b[0m\u001b[0mWorkbook\u001b[0m\u001b[1;33m(\u001b[0m\u001b[1;34m\"Edgeslist.xlsx\"\u001b[0m\u001b[1;33m)\u001b[0m\u001b[1;33m\u001b[0m\u001b[1;33m\u001b[0m\u001b[0m\n\u001b[0;32m      4\u001b[0m \u001b[0mworksheet1\u001b[0m\u001b[1;33m=\u001b[0m\u001b[0mworkbook\u001b[0m\u001b[1;33m.\u001b[0m\u001b[0madd_worksheet\u001b[0m\u001b[1;33m(\u001b[0m\u001b[1;34m\"sheet1\"\u001b[0m\u001b[1;33m)\u001b[0m\u001b[1;33m\u001b[0m\u001b[1;33m\u001b[0m\u001b[0m\n\u001b[0;32m      5\u001b[0m \u001b[0mworksheet1\u001b[0m\u001b[1;33m.\u001b[0m\u001b[0mactivate\u001b[0m\u001b[1;33m(\u001b[0m\u001b[1;33m)\u001b[0m\u001b[1;33m\u001b[0m\u001b[1;33m\u001b[0m\u001b[0m\n",
      "\u001b[1;31mNameError\u001b[0m: name 'g' is not defined"
     ]
    }
   ],
   "source": [
    "#关系表格\n",
    "nodes=list(g.getVertices())\n",
    "workbook=xw.Workbook(\"Edgeslist.xlsx\")\n",
    "worksheet1=workbook.add_worksheet(\"sheet1\")\n",
    "worksheet1.activate()\n",
    "title=['source','target','strength'] #id 用户名 用户属性\n",
    "worksheet1.write_row('A1',title)\n",
    "i=2\n",
    "for node in nodes:\n",
    "    if g.getVertex(node).connectedTo:\n",
    "        for target in g.getVertex(node).connectedTo.keys():\n",
    "            insertData=[node,target,g.getVertex(node).connectedTo[target]]\n",
    "            row='A'+str(i)\n",
    "            worksheet1.write_row(row,insertData)\n",
    "            i+=1\n",
    "workbook.close()"
   ]
  },
  {
   "cell_type": "code",
   "execution_count": 135,
   "metadata": {},
   "outputs": [],
   "source": [
    "vs=[]\n",
    "for v in g.verList.keys():\n",
    "    if g.verList[v].user_type==\"金V\":\n",
    "        print(v)\n",
    "        break"
   ]
  },
  {
   "attachments": {},
   "cell_type": "markdown",
   "metadata": {},
   "source": [
    "## 文本分析"
   ]
  },
  {
   "cell_type": "code",
   "execution_count": 200,
   "metadata": {},
   "outputs": [
    {
     "data": {
      "text/plain": [
       "31998"
      ]
     },
     "execution_count": 200,
     "metadata": {},
     "output_type": "execute_result"
    }
   ],
   "source": [
    "g.numVertices"
   ]
  },
  {
   "cell_type": "code",
   "execution_count": 184,
   "metadata": {},
   "outputs": [
    {
     "data": {
      "text/plain": [
       "普通用户    27737\n",
       "达人       2059\n",
       "黄V       1822\n",
       "金V        260\n",
       "蓝V         99\n",
       "微博女郎       20\n",
       "            1\n",
       "dtype: int64"
      ]
     },
     "execution_count": 184,
     "metadata": {},
     "output_type": "execute_result"
    }
   ],
   "source": [
    "#用户分析\n",
    "typelist=[]\n",
    "for v in g.verList.keys():\n",
    "    typelist.append(g.verList[v].user_type)\n",
    "df=pd.DataFrame(typelist)\n",
    "df.value_counts()"
   ]
  },
  {
   "cell_type": "code",
   "execution_count": 185,
   "metadata": {},
   "outputs": [],
   "source": [
    "def dupre(verlist):\n",
    "    for nodeid in verlist.keys():\n",
    "        weibos=verlist[nodeid].weibos\n",
    "        tmp={}\n",
    "        for weibo_id in weibos.keys():\n",
    "            tmp[weibo_id]=weibos[weibo_id].weibo_content\n",
    "        #交换key，value\n",
    "        func=lambda z:dict([(x,y) for y,x in z.items()])\n",
    "        tmp=func(func(tmp))\n",
    "        for wb_id in list(verlist[nodeid].weibos.keys()): #遍历时不能修改字典\n",
    "            if wb_id not in tmp.keys():\n",
    "                del verlist[nodeid].weibos[wb_id]"
   ]
  },
  {
   "cell_type": "code",
   "execution_count": 188,
   "metadata": {},
   "outputs": [],
   "source": [
    "g1=copy.deepcopy(g)"
   ]
  },
  {
   "cell_type": "code",
   "execution_count": 191,
   "metadata": {},
   "outputs": [],
   "source": [
    "dupre(g.verList)"
   ]
  },
  {
   "attachments": {},
   "cell_type": "markdown",
   "metadata": {},
   "source": [
    "## 微博内容分析"
   ]
  },
  {
   "cell_type": "code",
   "execution_count": 209,
   "metadata": {},
   "outputs": [
    {
     "data": {
      "text/plain": [
       "{'73543718638': <__main__.oneweibo at 0x1d91e5ca4c0>}"
      ]
     },
     "execution_count": 209,
     "metadata": {},
     "output_type": "execute_result"
    }
   ],
   "source": [
    "g.verList['5896650802'].weibos"
   ]
  },
  {
   "cell_type": "code",
   "execution_count": 212,
   "metadata": {},
   "outputs": [],
   "source": [
    "def collectwb(g):\n",
    "    allcontent=[]\n",
    "    for user in g.verList.keys():\n",
    "        wb_list=g.verList[user].weibos\n",
    "        for wb_id in wb_list.keys():\n",
    "            allcontent.append(wb_list[wb_id].weibo_content)\n",
    "    return allcontent"
   ]
  },
  {
   "cell_type": "code",
   "execution_count": 213,
   "metadata": {},
   "outputs": [],
   "source": [
    "allcontent=collectwb(g)"
   ]
  },
  {
   "cell_type": "code",
   "execution_count": 218,
   "metadata": {},
   "outputs": [
    {
     "data": {
      "text/plain": [
       "2"
      ]
     },
     "execution_count": 218,
     "metadata": {},
     "output_type": "execute_result"
    }
   ],
   "source": [
    "allcontent[0].find('\\\\/\\\\/')"
   ]
  },
  {
   "cell_type": "code",
   "execution_count": 219,
   "metadata": {},
   "outputs": [
    {
     "data": {
      "text/plain": [
       "'牛逼'"
      ]
     },
     "execution_count": 219,
     "metadata": {},
     "output_type": "execute_result"
    }
   ],
   "source": [
    "allcontent[0][:allcontent[0].find('\\\\/\\\\/')]"
   ]
  },
  {
   "cell_type": "code",
   "execution_count": 238,
   "metadata": {},
   "outputs": [],
   "source": [
    "def clean(allcontent): \n",
    "    words=[]\n",
    "    stopwords=[]\n",
    "    with open(\"stopwords.txt\",\"r\") as f:\n",
    "        stopwords=[i.strip() for i in f]\n",
    "    jieba.load_userdict(\"dict.txt\")\n",
    "    for k,v in enumerate(allcontent): #index,value\n",
    "        if v.find('\\\\/\\\\/')!=-1:\n",
    "            allcontent[k]=v[:v.find('\\\\/\\\\/')]\n",
    "    for pic in allcontent:\n",
    "        cutlist=jieba.lcut(pic)\n",
    "        for word in cutlist:\n",
    "            if word not in stopwords:\n",
    "                words.append(word)\n",
    "    return words\n"
   ]
  },
  {
   "cell_type": "code",
   "execution_count": 239,
   "metadata": {},
   "outputs": [],
   "source": [
    "words=clean(allcontent)"
   ]
  },
  {
   "cell_type": "code",
   "execution_count": 240,
   "metadata": {},
   "outputs": [],
   "source": [
    "words\n",
    "df=pd.DataFrame(words)\n",
    "df.value_counts().to_excel(\"wcount.xlsx\")"
   ]
  },
  {
   "attachments": {},
   "cell_type": "markdown",
   "metadata": {},
   "source": [
    "词云图"
   ]
  },
  {
   "cell_type": "code",
   "execution_count": 274,
   "metadata": {},
   "outputs": [],
   "source": [
    "from wordcloud import WordCloud\n",
    "import matplotlib.pyplot as plt\n",
    "plt.rcParams['font.sans-serif'] = ['SimHei']\n",
    "plt.rcParams['axes.unicode_minus'] = False"
   ]
  },
  {
   "cell_type": "code",
   "execution_count": 275,
   "metadata": {},
   "outputs": [],
   "source": [
    "data=pd.read_excel(\"wcount.xlsx\")\n",
    "wordcount={}\n",
    "for i in range(len(data)):\n",
    "    wordcount[data.loc[i,0]]=data.loc[i,'0.1']"
   ]
  },
  {
   "cell_type": "code",
   "execution_count": 276,
   "metadata": {},
   "outputs": [
    {
     "data": {
      "text/plain": [
       "{'蜡烛': 11746,\n",
       " '转发': 6352,\n",
       " '微博': 5923,\n",
       " '一年': 2058,\n",
       " '愿': 376,\n",
       " '记得': 370,\n",
       " '真的': 311,\n",
       " 'Repost': 305,\n",
       " '白蜡烛': 242,\n",
       " '说': 239,\n",
       " '没': 236,\n",
       " '忘记': 235,\n",
       " '希望': 224,\n",
       " '失望': 224,\n",
       " '回家': 222,\n",
       " '20': 222,\n",
       " '发生': 217,\n",
       " '地铁': 212,\n",
       " '悲伤': 212,\n",
       " '过得': 210,\n",
       " '月': 209,\n",
       " '好快': 202,\n",
       " '灾害': 194,\n",
       " '纪念': 194,\n",
       " '雨': 189,\n",
       " '里': 184,\n",
       " '7.20': 178,\n",
       " '日': 176,\n",
       " '轉發': 176,\n",
       " '想': 174,\n",
       " '心': 166,\n",
       " '年': 155,\n",
       " '悼念': 152,\n",
       " '下雨': 150,\n",
       " '永远': 147,\n",
       " '苦涩': 144,\n",
       " '鲜花': 142,\n",
       " '天灾': 141,\n",
       " '灾难': 140,\n",
       " '那天': 138,\n",
       " '蠟燭': 136,\n",
       " '前': 135,\n",
       " '伤心': 132,\n",
       " '遗忘': 128,\n",
       " '缅怀': 128,\n",
       " '同胞': 126,\n",
       " '今日': 124,\n",
       " '昨天': 123,\n",
       " '中': 122,\n",
       " '城市': 121,\n",
       " '事': 121,\n",
       " '逝去': 117,\n",
       " '🏻': 114,\n",
       " '大雨': 114,\n",
       " '北京': 113,\n",
       " '铭记': 111,\n",
       " '生命': 109,\n",
       " '走': 105,\n",
       " '太': 105,\n",
       " '记忆': 102,\n",
       " '人民': 101,\n",
       " '想起': 101,\n",
       " '路': 100,\n",
       " '媒体': 99,\n",
       " '死亡': 99,\n",
       " '洪水': 98,\n",
       " '小时': 96,\n",
       " '历史': 94,\n",
       " '瞒报': 92,\n",
       " '水': 92,\n",
       " '爸爸': 89,\n",
       " '平安': 88,\n",
       " '人祸': 87,\n",
       " '隧道': 87,\n",
       " '真快': 87,\n",
       " '不让': 87,\n",
       " '苦难': 87,\n",
       " '调查报告': 86,\n",
       " '有人': 85,\n",
       " '事情': 83,\n",
       " '天': 83,\n",
       " '图': 82,\n",
       " '害怕': 81,\n",
       " '狗': 81,\n",
       " '忘': 81,\n",
       " '感觉': 80,\n",
       " '朋友': 79,\n",
       " '做': 79,\n",
       " '夹': 79,\n",
       " '新闻': 79,\n",
       " '祭': 77,\n",
       " '时': 76,\n",
       " '世界': 76,\n",
       " '真': 76,\n",
       " '事件': 76,\n",
       " '晚上': 76,\n",
       " '图片': 73,\n",
       " '好像': 73,\n",
       " '单身': 72,\n",
       " '祭奠': 72,\n",
       " '视频': 71,\n",
       " '经历': 71,\n",
       " '十年': 70,\n",
       " '地方': 70,\n",
       " '日子': 70,\n",
       " '被困': 69,\n",
       " '中国': 69,\n",
       " '难过': 69,\n",
       " '更': 67,\n",
       " '2021': 66,\n",
       " '生活': 65,\n",
       " '银行': 61,\n",
       " '搜': 61,\n",
       " '照片': 60,\n",
       " '地铁口': 59,\n",
       " '郑州市': 58,\n",
       " '热': 58,\n",
       " '话题': 57,\n",
       " '历历在目': 57,\n",
       " '死': 56,\n",
       " '雨衣': 55,\n",
       " '哭': 55,\n",
       " '号': 55,\n",
       " '没想到': 54,\n",
       " '接': 54,\n",
       " '微风': 54,\n",
       " '这场': 54,\n",
       " '大暴雨': 53,\n",
       " '家': 53,\n",
       " '站': 53,\n",
       " '工作': 53,\n",
       " '妞妞': 53,\n",
       " '社会': 52,\n",
       " '21': 52,\n",
       " '失声': 52,\n",
       " '太快': 52,\n",
       " '默哀': 52,\n",
       " '回': 52,\n",
       " '不该': 52,\n",
       " '天气': 52,\n",
       " '看着': 51,\n",
       " '地铁站': 51,\n",
       " '洪灾': 51,\n",
       " '💐': 51,\n",
       " '早上': 51,\n",
       " '沙口': 51,\n",
       " '国家': 50,\n",
       " '几天': 50,\n",
       " '这是': 50,\n",
       " '失踪': 49,\n",
       " '号线': 49,\n",
       " '情况': 49,\n",
       " '721': 48,\n",
       " '听': 48,\n",
       " '下午': 48,\n",
       " '想到': 48,\n",
       " '活着': 48,\n",
       " '特别': 48,\n",
       " '去年今天': 48,\n",
       " '一场': 47,\n",
       " '应急': 47,\n",
       " '词条': 47,\n",
       " '手机': 47,\n",
       " '信息': 46,\n",
       " '周年': 46,\n",
       " '救援': 46,\n",
       " '生': 46,\n",
       " '不想': 46,\n",
       " '集体': 46,\n",
       " '遇难': 46,\n",
       " '记住': 45,\n",
       " '禁止': 45,\n",
       " '疫情': 45,\n",
       " '爱': 45,\n",
       " '依然': 44,\n",
       " '一夜': 44,\n",
       " '好好': 44,\n",
       " '积水': 43,\n",
       " '发': 43,\n",
       " '转': 43,\n",
       " '影响': 42,\n",
       " '抱抱': 42,\n",
       " '花': 42,\n",
       " '可怕': 42,\n",
       " '共': 42,\n",
       " '几个': 41,\n",
       " '服务': 41,\n",
       " '嘴': 41,\n",
       " '五号线': 40,\n",
       " '139': 40,\n",
       " '自然灾害': 40,\n",
       " '哀悼': 40}"
      ]
     },
     "execution_count": 276,
     "metadata": {},
     "output_type": "execute_result"
    }
   ],
   "source": [
    "wordcount"
   ]
  },
  {
   "cell_type": "code",
   "execution_count": 286,
   "metadata": {},
   "outputs": [
    {
     "data": {
      "image/png": "[encoded data removed]",
      "text/plain": [
       "<Figure size 432x288 with 1 Axes>"
      ]
     },
     "metadata": {
      "needs_background": "light"
     },
     "output_type": "display_data"
    },
    {
     "data": {
      "text/plain": [
       "<wordcloud.wordcloud.WordCloud at 0x1d933cd6490>"
      ]
     },
     "execution_count": 286,
     "metadata": {},
     "output_type": "execute_result"
    }
   ],
   "source": [
    "wordcloud=WordCloud(width = 1000, height = 500,font_path='D:\\Anaconda\\Lib\\site-packages\\wordcloud\\simhei.ttf',collocations=True,background_color='white',scale=20)\n",
    "wordcloud=wordcloud.generate_from_frequencies(wordcount)\n",
    "plt.imshow(wordcloud)\n",
    "plt.axis(\"off\")\n",
    "plt.show()\n",
    "wordcloud.to_file('wd.jpg')"
   ]
  }
 ],
 "metadata": {
  "kernelspec": {
   "display_name": "base",
   "language": "python",
   "name": "python3"
  },
  "language_info": {
   "codemirror_mode": {
    "name": "ipython",
    "version": 3
   },
   "file_extension": ".py",
   "mimetype": "text/x-python",
   "name": "python",
   "nbconvert_exporter": "python",
   "pygments_lexer": "ipython3",
   "version": "3.8.5"
  },
  "orig_nbformat": 4,
  "vscode": {
   "interpreter": {
    "hash": "88279d2366fe020547cde40dd65aa0e3aa662a6ec1f3ca12d88834876c85e1a6"
   }
  }
 },
 "nbformat": 4,
 "nbformat_minor": 2
}
