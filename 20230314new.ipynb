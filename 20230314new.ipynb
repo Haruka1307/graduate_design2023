{
 "cells": [
  {
   "cell_type": "code",
   "execution_count": 1,
   "metadata": {},
   "outputs": [],
   "source": [
    "import numpy as np\n",
    "import pandas as pd \n",
    "import json\n",
    "import os\n",
    "from multiprocessing import Pool\n",
    "import re"
   ]
  },
  {
   "cell_type": "code",
   "execution_count": 2,
   "metadata": {},
   "outputs": [],
   "source": [
    "df1 = pd.DataFrame({'num':[60,20,80,90],\n",
    "                    'rate':[2,1,3,4],\n",
    "                    'value':[40,50,60,55]},\n",
    "                   index=[2001,2002,2003,2004])\n",
    "# In[25]:\n",
    "df2 = pd.DataFrame({'num':[60,20,80,90],\n",
    "                    'rate':[2,1,3,4],\n",
    "                    'value':[40,50,60,55]},\n",
    "                   index=[2005,2006,2007,2008])"
   ]
  },
  {
   "cell_type": "code",
   "execution_count": 5,
   "metadata": {},
   "outputs": [
    {
     "data": {
      "text/html": [
       "<div>\n",
       "<style scoped>\n",
       "    .dataframe tbody tr th:only-of-type {\n",
       "        vertical-align: middle;\n",
       "    }\n",
       "\n",
       "    .dataframe tbody tr th {\n",
       "        vertical-align: top;\n",
       "    }\n",
       "\n",
       "    .dataframe thead th {\n",
       "        text-align: right;\n",
       "    }\n",
       "</style>\n",
       "<table border=\"1\" class=\"dataframe\">\n",
       "  <thead>\n",
       "    <tr style=\"text-align: right;\">\n",
       "      <th></th>\n",
       "      <th>num</th>\n",
       "      <th>rate</th>\n",
       "      <th>value</th>\n",
       "    </tr>\n",
       "  </thead>\n",
       "  <tbody>\n",
       "    <tr>\n",
       "      <th>2001</th>\n",
       "      <td>60</td>\n",
       "      <td>2</td>\n",
       "      <td>40</td>\n",
       "    </tr>\n",
       "    <tr>\n",
       "      <th>2002</th>\n",
       "      <td>20</td>\n",
       "      <td>1</td>\n",
       "      <td>50</td>\n",
       "    </tr>\n",
       "    <tr>\n",
       "      <th>2003</th>\n",
       "      <td>80</td>\n",
       "      <td>3</td>\n",
       "      <td>60</td>\n",
       "    </tr>\n",
       "    <tr>\n",
       "      <th>2004</th>\n",
       "      <td>90</td>\n",
       "      <td>4</td>\n",
       "      <td>55</td>\n",
       "    </tr>\n",
       "    <tr>\n",
       "      <th>2005</th>\n",
       "      <td>60</td>\n",
       "      <td>2</td>\n",
       "      <td>40</td>\n",
       "    </tr>\n",
       "    <tr>\n",
       "      <th>2006</th>\n",
       "      <td>20</td>\n",
       "      <td>1</td>\n",
       "      <td>50</td>\n",
       "    </tr>\n",
       "    <tr>\n",
       "      <th>2007</th>\n",
       "      <td>80</td>\n",
       "      <td>3</td>\n",
       "      <td>60</td>\n",
       "    </tr>\n",
       "    <tr>\n",
       "      <th>2008</th>\n",
       "      <td>90</td>\n",
       "      <td>4</td>\n",
       "      <td>55</td>\n",
       "    </tr>\n",
       "  </tbody>\n",
       "</table>\n",
       "</div>"
      ],
      "text/plain": [
       "      num  rate  value\n",
       "2001   60     2     40\n",
       "2002   20     1     50\n",
       "2003   80     3     60\n",
       "2004   90     4     55\n",
       "2005   60     2     40\n",
       "2006   20     1     50\n",
       "2007   80     3     60\n",
       "2008   90     4     55"
      ]
     },
     "execution_count": 5,
     "metadata": {},
     "output_type": "execute_result"
    }
   ],
   "source": [
    "pd.concat([df1,df2])"
   ]
  },
  {
   "cell_type": "code",
   "execution_count": 16,
   "metadata": {},
   "outputs": [],
   "source": [
    "import re\n",
    "pattern=re.compile('[0-9]+\\t{.+\"d\":.+}')\n",
    "s='75640178358\\t{\"id\":\"75640178358\",\"crawler_time\":\"2022-10-08 00:00:00\",\"crawler_time_stamp\":\"1665158400000\",\"is_retweet\":\"0\",\"user_id\":\"1454303565\",\"nick_name\":\"希阳西\",\"tou_xiang\":\"https:\\\\/\\\\/tvax2.sinaimg.cn\\\\/crop.0.0.512.512.50\\\\/56aee94dly8gjewniter9j20e80e8jsa.jpg?KID=imgbed,tva&Expires=1665169199&ssig=G7HjHOHM1q\",\"user_type\":\"普通用户\",\"weibo_id\":\"4822065498821328\",\"weibo_content\":\"#肖战[超话]##肖战时影#[心]#肖战肖春生# \\\\n韶华流光里，\\\\n俯仰皆是你@X玖少年团肖战DAYTOY @X玖少年团肖战DAYTOY [心][兔子][贊啊]#肖战顺顺利利# \\u200b\\u200b\\u200b\",\"zhuan\":\"0\",\"ping\":\"1\",\"zhan\":\"1\",\"url\":\"M9g1vB0Pu\",\"device\":\"肖戰順順利利\",\"locate\":\"\",\"time\":\"2022-10-07 22:37:47\",\"time_stamp\":\"1665153467\",\"r_user_id\":\"\",\"r_nick_name\":\"\",\"r_user_type\":\"\",\"r_weibo_id\":\"\",\"r_weibo_content\":\"\",\"r_zhuan\":\"\",\"r_ping\":\"\",\"r_zhan\":\"\",\"r_url\":\"\",\"r_device\":\"\",\"r_location\":\"\",\"r_time\":\"\",\"r_time_stamp\":\"\",\"pic_content\":\"56aee94dgy1h6x3jo6vz7j236c2jxkjl\",\"src\":\"4\",\"tag\":\"0\",\"vedio\":\"0\",\"vedio_image\":\"\",\"edited\":\"0\",\"r_edited\":\"\",\"isLongText\":\"0\",\"r_isLongText\":\"\",\"lat\":\"\",\"lon\":\"\",\"ext\":\"{\\\\\"region_name\\\\\":\\\\\"发布于 广东\\\\}'"
   ]
  },
  {
   "cell_type": "code",
   "execution_count": 17,
   "metadata": {},
   "outputs": [
    {
     "name": "stdout",
     "output_type": "stream",
     "text": [
      "None\n"
     ]
    }
   ],
   "source": [
    "print(pattern.search(s))"
   ]
  },
  {
   "cell_type": "code",
   "execution_count": 19,
   "metadata": {},
   "outputs": [],
   "source": [
    "def process_chunk(chunk):\n",
    "    # 将chunk中的每个字典去掉编号并返回一个DataFrame\n",
    "    l=list(filter(None,chunk.split('\\n')))\n",
    "    return pd.DataFrame(l,columns=['wb'])\n",
    "\n",
    "def handle_error(err):\n",
    "    print(\"an error occured \",err)\n",
    "    \n",
    "def read_file_to_dataframe(filename, chunk_size=1024*1024, workers=4):\n",
    "    # 获取文件大小\n",
    "    file_size = os.path.getsize(filename)\n",
    "\n",
    "    # 定义进程池和结果列表\n",
    "    pool = Pool(processes=workers)\n",
    "    df=pd.DataFrame(columns=['wb'])\n",
    "    # 逐个chunk处理\n",
    "    with open(filename, 'r', encoding='utf-8') as f:\n",
    "        while f.tell() < file_size:\n",
    "            # 读取一个chunk的数据\n",
    "            chunk = []\n",
    "            for i in range(chunk_size):\n",
    "                line = f.readline()\n",
    "                if not line:\n",
    "                    break\n",
    "                chunk.append(line)\n",
    "\n",
    "            # 处理一个chunk的数据\n",
    "            res= pool.apply_async(process_chunk, args=(chunk, ),error_callback=handle_error)\n",
    "            try:\n",
    "                df.append(res.get())\n",
    "            except Exception as e:\n",
    "                print(\"an err occured:{}\".format(e))\n",
    "        # 等待所有进程完成\n",
    "        pool.close()\n",
    "        pool.join()\n",
    "\n",
    "    # 将结果存入DataFrame\n",
    "    df.to_excel('ans.xlsx')\n",
    "    return df"
   ]
  }
 ],
 "metadata": {
  "kernelspec": {
   "display_name": "base",
   "language": "python",
   "name": "python3"
  },
  "language_info": {
   "codemirror_mode": {
    "name": "ipython",
    "version": 3
   },
   "file_extension": ".py",
   "mimetype": "text/x-python",
   "name": "python",
   "nbconvert_exporter": "python",
   "pygments_lexer": "ipython3",
   "version": "3.8.5"
  },
  "orig_nbformat": 4
 },
 "nbformat": 4,
 "nbformat_minor": 2
}
