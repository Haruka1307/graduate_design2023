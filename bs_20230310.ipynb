{
 "cells": [
  {
   "cell_type": "code",
   "execution_count": 24,
   "metadata": {},
   "outputs": [],
   "source": [
    "import numpy as np\n",
    "import pandas as pd \n",
    "import json\n",
    "import copy\n",
    "import jieba\n",
    "import matplotlib.pyplot as plt \n",
    "import xlsxwriter as xw\n",
    "import os"
   ]
  },
  {
   "cell_type": "code",
   "execution_count": 35,
   "metadata": {},
   "outputs": [],
   "source": [
    "keyword=['北京疫情发布会','上海疫情发布会','上海市新冠肺炎疫情防控发布会','广州疫情防控新闻发布会','广州市疫情防控发布会',['重庆市政府新闻发布会','疫情']]"
   ]
  },
  {
   "cell_type": "code",
   "execution_count": 42,
   "metadata": {},
   "outputs": [],
   "source": [
    "import re\n",
    "keyword = ['高血压','收缩压','舒张压','临床综合征']\n",
    "text = '''高血压 收缩压'''\n",
    "pattern = re.compile('|'.join(keyword))\n",
    "result_findall = pattern.match(text)"
   ]
  },
  {
   "cell_type": "code",
   "execution_count": 43,
   "metadata": {},
   "outputs": [
    {
     "data": {
      "text/plain": [
       "<re.Match object; span=(0, 3), match='高血压'>"
      ]
     },
     "execution_count": 43,
     "metadata": {},
     "output_type": "execute_result"
    }
   ],
   "source": [
    "result_findall"
   ]
  },
  {
   "cell_type": "code",
   "execution_count": 13,
   "metadata": {},
   "outputs": [],
   "source": [
    "texts=['重庆市政府新闻发布会 疫情']"
   ]
  },
  {
   "cell_type": "code",
   "execution_count": 15,
   "metadata": {},
   "outputs": [],
   "source": [
    "class oneweibo:\n",
    "    def __init__(self,\n",
    "                wb_id,\n",
    "                time_stamp,\n",
    "                user_id,\n",
    "                user_name,\n",
    "                user_type,\n",
    "                is_retweet, #是否转发\n",
    "                wb_content,\n",
    "                device,\n",
    "                edit, #编辑次数\n",
    "                video,\n",
    "                region_name, #wb 4.28后公开属地\n",
    "                r_wb_id,\n",
    "                zhuan=0,\n",
    "                ping=0,\n",
    "                zhan=0):\n",
    "        self.wb_id=wb_id\n",
    "        self.time_stamp=time_stamp\n",
    "        self.user_id=user_id\n",
    "        self.user_name=user_name\n",
    "        self.user_type=user_type\n",
    "        self.is_retweet=is_retweet\n",
    "        self.wb_content=wb_content\n",
    "        self.device=device \n",
    "        self.edit=edit\n",
    "        self.video=video\n",
    "        if is_retweet==1:\n",
    "            self.video=0   \n",
    "        self.region_name=region_name\n",
    "        self.r_wb_id=r_wb_id \n",
    "        self.zhuan=zhuan \n",
    "        self.ping=ping \n",
    "        self.zhan=zhan \n",
    "        \n",
    "    def show(self):\n",
    "        print(\n",
    "            \"wb_id:\",self.wb_id,\n",
    "            \"user_id:\",self.user_id,\n",
    "            \"is_retweet:\",self.is_retweet,\n",
    "            \"wb_content:\",self.wb_content,\n",
    "            \"time_stamp:\",self.time_stamp,\n",
    "            \"zhuan\",self.zhuan,\n",
    "            \"ping:\",self.ping,\n",
    "            \"zhan:\",self.zhan\n",
    "        )\n",
    "    def __eq__(self,other): \n",
    "        return self.wb_content==other.wb_content\n",
    "        "
   ]
  },
  {
   "cell_type": "code",
   "execution_count": 16,
   "metadata": {},
   "outputs": [],
   "source": [
    "class Vertex:\n",
    "    def __init__(self,\n",
    "                user_id,\n",
    "                user_name,\n",
    "                user_type):\n",
    "        self.user_id=user_id\n",
    "        self.user_name=user_name \n",
    "        self.user_type=user_type\n",
    "        self.weibos={} #wb_id list\n",
    "        self.connectedTo={} #key:usr_id value:strength\n",
    "\n",
    "    def tweeting(self,wb): #发微博\n",
    "        self.weibos.append(wb.wb_id)\n",
    "\n",
    "    def getWeibo(self,wb_id):  #根据微博id返回微博\n",
    "        if id in self.weibos:\n",
    "            return self.weibos[id]\n",
    "        else:\n",
    "            return None\n",
    "    \n",
    "    def showeibo(self):\n",
    "        for key in self.weibos.keys():\n",
    "            self.weibos[key].show()\n",
    "\n",
    "    def addNeighbor(self,nbr_id):\n",
    "        if nbr_id not in self.connectedTo.keys():\n",
    "            self.connectedTo[nbr_id]=1\n",
    "        else:\n",
    "            self.connectedTo[nbr_id]=self.connectedTo[nbr_id]+1 #多次转发，关系更强"
   ]
  },
  {
   "cell_type": "code",
   "execution_count": 17,
   "metadata": {},
   "outputs": [],
   "source": [
    "class Graph:\n",
    "    def __init__(self):\n",
    "        self.verList={} #user_id:节点\n",
    "        self.numVertices=0\n",
    "    \n",
    "    def addVertex(self,\n",
    "                user_id,\n",
    "                user_name,\n",
    "                user_type):\n",
    "        self.numVertices=self.numVertices+1\n",
    "        newVertex=Vertex(user_id,\n",
    "                        user_name,\n",
    "                        user_type)\n",
    "        self.verList[user_id]=newVertex\n",
    "        return newVertex\n",
    "\n",
    "    def getVertex(self,user_id):\n",
    "        if user_id in self.verList:\n",
    "            return self.verList[user_id]\n",
    "        else:\n",
    "            return None\n",
    "            \n",
    "    def updateVertex(self,\n",
    "                    wb_id,\n",
    "                    time_stamp,\n",
    "                    user_id,\n",
    "                    user_name,\n",
    "                    user_type,\n",
    "                    is_retweet,\n",
    "                    wb_content,\n",
    "                    device,\n",
    "                    edit,\n",
    "                    video,\n",
    "                    region_name,\n",
    "                    r_wb_id,\n",
    "                    zhuan,\n",
    "                    ping,\n",
    "                    zhan):\n",
    "        node=Graph.getVertex(self,user_id)\n",
    "        wb=oneweibo(wb_id,time_stamp,user_id,user_name,user_type,is_retweet,wb_content,device,\n",
    "        edit,video,region_name,r_wb_id,zhuan,ping,zhan)\n",
    "        node.tweeting(wb)\n",
    "        \n",
    "    def __contains__(self,id):\n",
    "        return id in self.verList\n",
    "\n",
    "    def addEdge(self,f_id,t_id): \n",
    "        #这里写错了，\n",
    "        #self.verList[f_id].addNeighbor(t_id)\n",
    "        self.verList[f_id].addNeighbor(t_id)\n",
    "    \n",
    "    def getVertices(self):\n",
    "        return self.verList.keys()\n",
    "    def __iter__(self):\n",
    "        return iter(self.verList.values())"
   ]
  },
  {
   "cell_type": "code",
   "execution_count": 19,
   "metadata": {},
   "outputs": [],
   "source": [
    "def Graphbuild(keyword):\n",
    "    g=Graph()\n",
    "    t=1\n",
    "    with open('weibo_freshdata.2022-07-21','r',encoding='utf-8') as f:\n",
    "        for line in f:\n",
    "            t=t+1\n",
    "            piece=eval(line[11:])\n",
    "            content=piece['weibo_content']\n",
    "            rcontent=piece['r_weibo_content']\n",
    "            if exist([content,rcontent],keyword):\n",
    "                if not g.__contains__(piece['user_id']):\n",
    "                    g.addVertex(piece['user_id'],piece['nick_name'],piece['user_type'])\n",
    "\n",
    "                g.updateVertex(piece['id'],\n",
    "                            piece['time_stamp'],\n",
    "                            piece['user_id'],\n",
    "                            piece['user_name'],\n",
    "                            piece['user_type'],\n",
    "                            piece['is_retweet'],\n",
    "                            piece['weibo_content'],\n",
    "                            piece['device'],\n",
    "                            piece['edit'],\n",
    "                            piece['video'],\n",
    "                            json.loads(piece['ext'])['region_name'].split()[-1] if 'region_name' in json.loads(piece['ext']).keys() else ' ',\n",
    "                            piece['r_weibo_id'],\n",
    "                            piece['zhuan'],\n",
    "                            piece['ping'],\n",
    "                            piece['zhan']\n",
    "                )\n",
    "\n",
    "\n",
    "                if piece['is_retweet']=='1':\n",
    "                    if not g.__contains__(piece['r_user_id']):  #\n",
    "                        g.addVertex(piece['r_user_id'],piece['r_nick_name'],piece['r_user_type'])\n",
    "\n",
    "                    r_user=g.getVertex(piece['r_user_id'])\n",
    "                    \n",
    "                    if not r_user.getWeibo(piece['r_weibo_id']):\n",
    "                        print(json.loads(piece['ext']),piece['user_id'])\n",
    "                        g.updateVertex(piece['r_weibo_id'],\n",
    "                            piece['r_time_stamp'],\n",
    "                            piece['r_user_id'],\n",
    "                            piece['r_user_name'],\n",
    "                            piece['r_user_type'],\n",
    "                            0,\n",
    "                            piece['r_weibo_content'],\n",
    "                            piece['r_device'],\n",
    "                            piece['r_edit'],\n",
    "                            piece['video'],\n",
    "                            json.loads(piece['ext'])['r_region_name'].split()[-1] if 'r_region_name' in json.loads(piece['ext']).keys() else ' ',\n",
    "                            '',\n",
    "                            piece['r_zhuan'],\n",
    "                            piece['r_ping'],\n",
    "                            piece['r_zhan']\n",
    "                        )\n",
    "                    g.addEdge(piece[\"r_user_id\"],piece[\"user_id\"])\n",
    "    return g "
   ]
  },
  {
   "cell_type": "code",
   "execution_count": null,
   "metadata": {},
   "outputs": [],
   "source": [
    "def exist(texts,keyword): #返回\n",
    "    ans=[]\n",
    "    for words in keyword:\n",
    "        ans.append(check(texts,words))\n",
    "    return ans \n",
    "def check(texts,words):\n",
    "    "
   ]
  },
  {
   "cell_type": "code",
   "execution_count": 23,
   "metadata": {},
   "outputs": [
    {
     "name": "stdout",
     "output_type": "stream",
     "text": [
      "5834920.573472977\n"
     ]
    }
   ],
   "source": [
    "import time\n",
    "with open('weibo_freshdata.2022-10-08/weibo_freshdata.2022-10-08','r',encoding='utf-8') as f:\n",
    "    t1=time.time()\n",
    "    i=0\n",
    "    for line in f:\n",
    "        piece=eval(line[11:])\n",
    "        i+=1\n",
    "    t2=time.time()\n",
    "    print((t2-t1)*1000)"
   ]
  },
  {
   "cell_type": "code",
   "execution_count": null,
   "metadata": {},
   "outputs": [],
   "source": [
    "def Search(keyword):\n",
    "    ans=[]\n",
    "    to_find=[] #待查内容\n",
    "    contents=[] #所有微博内容\n",
    "    i=1\n",
    "    with open('weibo_freshdata.2022-03-01/weibo_freshdata.2022-03-01','r',encoding='utf-8') as f:\n",
    "        for line in f:\n",
    "            if i==5000:\n",
    "                \n",
    "                to_find=[]\n",
    "                contents=[]\n",
    "            piece=eval(line[11:])\n",
    "            to_find.append(piece['weibo_content']+piece['r_weibo_content'])\n",
    "            # content=piece['weibo_content']\n",
    "            # rcontent=piece['r_weibo_content']\n",
    "            # if exist([content,rcontent],keyword):\n",
    "            #     region_name=''\n",
    "            #     if 'ext' in piece.keys():\n",
    "            #         region_name=json.loads(piece['ext'])['region_name'].split()[-1] if 'region_name' in json.loads(piece['ext']).keys() else ' '\n",
    "            #     new_wb=oneweibo(piece['weibo_id'],piece['time_stamp'],piece['user_id'],piece['nick_name'],piece['user_type'],piece['is_retweet'],piece['weibo_content'],piece['device'],piece['edited'],piece['vedio'],region_name,piece['r_weibo_id'],piece['zhuan'],piece['ping'],piece['zhan'])\n",
    "            #     wbs[piece['weibo_id']]=new_wb\n",
    "    \n",
    "    #将结果写入表格\n",
    "    workbook=xw.Workbook(\"ans.xlsx\")\n",
    "    worksheet1=workbook.add_worksheet(\"sheet1\")\n",
    "    worksheet1.activate()\n",
    "    title=['wb_id','time_stamp','user_id','user_name','user_type','is_retweet','wb_content','device','edit','video','region_name','r_wb_id','zhuan','ping','zhan']\n",
    "    worksheet1.write_row(\"A1\",title)\n",
    "    i=2\n",
    "    for j in range(len(wbs)):\n",
    "        wb=list(wbs.values())[j]\n",
    "        insertData=[wb.wb_id,wb.time_stamp,wb.user_id,wb.user_name,wb.user_type,wb.is_retweet,wb.wb_content,wb.device,wb.edit,wb.video,wb.region_name,wb.r_wb_id,wb.zhuan,wb.ping,wb.zhan]\n",
    "        row='A'+str(i)\n",
    "        worksheet1.write_row(row,insertData)\n",
    "        i+=1\n",
    "    workbook.close()\n",
    "    return  os.path.abspath(\"ans.xlsx\")"
   ]
  },
  {
   "cell_type": "code",
   "execution_count": null,
   "metadata": {},
   "outputs": [],
   "source": [
    "keyword=['北京疫情发布会','上海疫情发布会',\n",
    "        '上海市新冠肺炎疫情防控发布会','广州疫情防控新闻发布会','广州市疫情防控发布会','重庆市政府新闻发布会']"
   ]
  },
  {
   "cell_type": "code",
   "execution_count": 28,
   "metadata": {},
   "outputs": [],
   "source": [
    "keyword=['北京疫情发布会',['北京召开第','疫情防控新闻发布会'],['北京','发布会','疫情'],'上海疫情发布会','上海市新冠肺炎疫情防控发布会',['上海','发布会','疫情'],'广州疫情防控新闻发布会','广州市疫情防控发布会',['广州','发布会','疫情'],['重庆市政府新闻发布会','疫情'],['重庆','发布会','疫情']]"
   ]
  },
  {
   "cell_type": "code",
   "execution_count": 30,
   "metadata": {},
   "outputs": [],
   "source": [
    "title=['wb_id','time_stamp','user_id','user_name','user_type','is_retweet','wb_content','device','edit','video','region_name','r_wb_id','zhuan','ping','zhan']\n",
    "df=pd.DataFrame(columns=['weibo_content'])\n",
    "df.loc[0]='北京 疫情 发布会'\n",
    "df.loc[1]='重庆 疫情 发布会'"
   ]
  },
  {
   "cell_type": "code",
   "execution_count": 34,
   "metadata": {},
   "outputs": [
    {
     "data": {
      "text/html": [
       "<div>\n",
       "<style scoped>\n",
       "    .dataframe tbody tr th:only-of-type {\n",
       "        vertical-align: middle;\n",
       "    }\n",
       "\n",
       "    .dataframe tbody tr th {\n",
       "        vertical-align: top;\n",
       "    }\n",
       "\n",
       "    .dataframe thead th {\n",
       "        text-align: right;\n",
       "    }\n",
       "</style>\n",
       "<table border=\"1\" class=\"dataframe\">\n",
       "  <thead>\n",
       "    <tr style=\"text-align: right;\">\n",
       "      <th></th>\n",
       "      <th>weibo_content</th>\n",
       "    </tr>\n",
       "  </thead>\n",
       "  <tbody>\n",
       "  </tbody>\n",
       "</table>\n",
       "</div>"
      ],
      "text/plain": [
       "Empty DataFrame\n",
       "Columns: [weibo_content]\n",
       "Index: []"
      ]
     },
     "execution_count": 34,
     "metadata": {},
     "output_type": "execute_result"
    }
   ],
   "source": [
    "df.loc[df['weibo_content'].isin(['北京 疫情 发布会发发发'])]"
   ]
  }
 ],
 "metadata": {
  "kernelspec": {
   "display_name": "base",
   "language": "python",
   "name": "python3"
  },
  "language_info": {
   "codemirror_mode": {
    "name": "ipython",
    "version": 3
   },
   "file_extension": ".py",
   "mimetype": "text/x-python",
   "name": "python",
   "nbconvert_exporter": "python",
   "pygments_lexer": "ipython3",
   "version": "3.8.5"
  },
  "orig_nbformat": 4,
  "vscode": {
   "interpreter": {
    "hash": "88279d2366fe020547cde40dd65aa0e3aa662a6ec1f3ca12d88834876c85e1a6"
   }
  }
 },
 "nbformat": 4,
 "nbformat_minor": 2
}
